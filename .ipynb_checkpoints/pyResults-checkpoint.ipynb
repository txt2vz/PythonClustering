{
 "cells": [
  {
   "cell_type": "code",
   "execution_count": 23,
   "id": "be829a8b",
   "metadata": {},
   "outputs": [],
   "source": [
    "import os\n",
    "import re\n",
    "import logging\n",
    "from optparse import OptionParser\n",
    "import sys\n",
    "from time import time\n",
    "import glob\n",
    "from pathlib import Path\n",
    "from collections import defaultdict\n",
    "import numpy as np\n",
    "import pandas as pd\n",
    "from time import time\n",
    "import sklearn\n",
    "from sklearn.metrics import accuracy_score\n",
    "from sklearn.metrics import classification_report\n",
    "from sklearn.preprocessing import LabelEncoder\n",
    "from sklearn.feature_extraction.text import TfidfVectorizer\n",
    "from sklearn.cluster import KMeans, DBSCAN\n",
    "from sklearn.cluster import Birch\n",
    "from sklearn.cluster import SpectralClustering\n",
    "from sklearn.cluster import AgglomerativeClustering, FeatureAgglomeration\n",
    "from sklearn import metrics\n",
    "from sklearn.datasets import fetch_20newsgroups\n",
    "from sklearn.feature_extraction.text import HashingVectorizer\n",
    "from sklearn.pipeline import make_pipeline\n",
    "from sklearn.feature_extraction.text import TfidfTransformer\n",
    "from sklearn.preprocessing import Normalizer\n",
    "from sklearn.decomposition import TruncatedSVD\n",
    "from datetime import datetime"
   ]
  },
  {
   "cell_type": "code",
   "execution_count": 24,
   "id": "7031dfb3",
   "metadata": {},
   "outputs": [],
   "source": [
    "#change this to where you have the dataset in your local machine \n",
    "\n",
    "data_folder = 'C:\\\\Data\\\\DataSetForPaper2023\\\\'\n",
    "#'C:\\\\Users\\\\boo34\\\\OneDrive - University of Brighton\\\\Desktop\\\\Research Papers\\\\Publication\\\\DataSetForPaper2023\\\\'"
   ]
  },
  {
   "cell_type": "code",
   "execution_count": 44,
   "id": "24206aed",
   "metadata": {},
   "outputs": [
    {
     "name": "stdout",
     "output_type": "stream",
     "text": [
      "1500 documents\n",
      "3 categories\n",
      "\n",
      "Extracting features from the training dataset using a sparse vectorizer\n",
      "done in 0.183495s\n",
      "n_samples: 1500, n_features: 1000\n",
      "\n",
      "kMeans ++ run number: 0\n",
      "Clustering sparse data with KMeans(max_iter=100, n_clusters=3, n_init=1, verbose=False)\n",
      "done in 0.208s\n",
      "K Means V-measure: 0.20049 Homogeneity: 0.19 Completeness: 0.21 Adjusted Rand-Index: 0.15\n",
      "ag v 0.2931513214733286  ag rand 0.03783116239664239 ag unique label length 146\n"
     ]
    },
    {
     "name": "stderr",
     "output_type": "stream",
     "text": [
      "C:\\Users\\lauri\\anaconda3\\lib\\site-packages\\sklearn\\cluster\\_kmeans.py:1382: UserWarning: KMeans is known to have a memory leak on Windows with MKL, when there are less chunks than available threads. You can avoid it by setting the environment variable OMP_NUM_THREADS=6.\n",
      "  warnings.warn(\n"
     ]
    },
    {
     "name": "stdout",
     "output_type": "stream",
     "text": [
      "spectral v 0.4996214147389438 spectral adjustred rand 0.42561458659773943\n",
      "\n",
      "\n",
      "done in 1.407380s\n",
      "n_samples: 1500, n_features: 1000\n",
      "\n",
      "kMeans ++ run number: 1\n",
      "Clustering sparse data with KMeans(max_iter=100, n_clusters=3, n_init=1, verbose=False)\n",
      "done in 1.426s\n",
      "K Means V-measure: 0.29188 Homogeneity: 0.28 Completeness: 0.30 Adjusted Rand-Index: 0.20\n",
      "ag v 0.2931513214733286  ag rand 0.03783116239664239 ag unique label length 146\n"
     ]
    },
    {
     "name": "stderr",
     "output_type": "stream",
     "text": [
      "C:\\Users\\lauri\\anaconda3\\lib\\site-packages\\sklearn\\cluster\\_kmeans.py:1382: UserWarning: KMeans is known to have a memory leak on Windows with MKL, when there are less chunks than available threads. You can avoid it by setting the environment variable OMP_NUM_THREADS=6.\n",
      "  warnings.warn(\n"
     ]
    },
    {
     "name": "stdout",
     "output_type": "stream",
     "text": [
      "spectral v 0.4996214147389438 spectral adjustred rand 0.42561458659773943\n",
      "\n",
      "\n",
      "done in 2.647505s\n",
      "n_samples: 1500, n_features: 1000\n",
      "\n",
      "kMeans ++ run number: 2\n",
      "Clustering sparse data with KMeans(max_iter=100, n_clusters=3, n_init=1, verbose=False)\n",
      "done in 2.680s\n",
      "K Means V-measure: 0.27939 Homogeneity: 0.27 Completeness: 0.29 Adjusted Rand-Index: 0.19\n",
      "ag v 0.2931513214733286  ag rand 0.03783116239664239 ag unique label length 146\n"
     ]
    },
    {
     "name": "stderr",
     "output_type": "stream",
     "text": [
      "C:\\Users\\lauri\\anaconda3\\lib\\site-packages\\sklearn\\cluster\\_kmeans.py:1382: UserWarning: KMeans is known to have a memory leak on Windows with MKL, when there are less chunks than available threads. You can avoid it by setting the environment variable OMP_NUM_THREADS=6.\n",
      "  warnings.warn(\n"
     ]
    },
    {
     "name": "stdout",
     "output_type": "stream",
     "text": [
      "spectral v 0.49962141473894367 spectral adjustred rand 0.42561458659773943\n",
      "\n",
      "\n",
      "done in 3.871143s\n",
      "n_samples: 1500, n_features: 1000\n",
      "\n",
      "kMeans ++ run number: 3\n",
      "Clustering sparse data with KMeans(max_iter=100, n_clusters=3, n_init=1, verbose=False)\n",
      "done in 3.887s\n",
      "K Means V-measure: 0.26256 Homogeneity: 0.24 Completeness: 0.29 Adjusted Rand-Index: 0.16\n",
      "ag v 0.2931513214733286  ag rand 0.03783116239664239 ag unique label length 146\n"
     ]
    },
    {
     "name": "stderr",
     "output_type": "stream",
     "text": [
      "C:\\Users\\lauri\\anaconda3\\lib\\site-packages\\sklearn\\cluster\\_kmeans.py:1382: UserWarning: KMeans is known to have a memory leak on Windows with MKL, when there are less chunks than available threads. You can avoid it by setting the environment variable OMP_NUM_THREADS=6.\n",
      "  warnings.warn(\n"
     ]
    },
    {
     "name": "stdout",
     "output_type": "stream",
     "text": [
      "spectral v 0.4996214147389438 spectral adjustred rand 0.42561458659773943\n",
      "\n",
      "\n",
      "done in 5.114279s\n",
      "n_samples: 1500, n_features: 1000\n",
      "\n",
      "kMeans ++ run number: 4\n",
      "Clustering sparse data with KMeans(max_iter=100, n_clusters=3, n_init=1, verbose=False)\n",
      "done in 5.146s\n",
      "K Means V-measure: 0.20028 Homogeneity: 0.19 Completeness: 0.21 Adjusted Rand-Index: 0.15\n",
      "ag v 0.2931513214733286  ag rand 0.03783116239664239 ag unique label length 146\n"
     ]
    },
    {
     "name": "stderr",
     "output_type": "stream",
     "text": [
      "C:\\Users\\lauri\\anaconda3\\lib\\site-packages\\sklearn\\cluster\\_kmeans.py:1382: UserWarning: KMeans is known to have a memory leak on Windows with MKL, when there are less chunks than available threads. You can avoid it by setting the environment variable OMP_NUM_THREADS=6.\n",
      "  warnings.warn(\n"
     ]
    },
    {
     "name": "stdout",
     "output_type": "stream",
     "text": [
      "spectral v 0.4996214147389438 spectral adjustred rand 0.42561458659773943\n",
      "\n",
      "\n",
      "done in 6.463285s\n",
      "n_samples: 1500, n_features: 1000\n",
      "\n",
      "kMeans ++ run number: 5\n",
      "Clustering sparse data with KMeans(max_iter=100, n_clusters=3, n_init=1, verbose=False)\n",
      "done in 6.495s\n",
      "K Means V-measure: 0.36386 Homogeneity: 0.34 Completeness: 0.39 Adjusted Rand-Index: 0.27\n",
      "ag v 0.2931513214733286  ag rand 0.03783116239664239 ag unique label length 146\n"
     ]
    },
    {
     "name": "stderr",
     "output_type": "stream",
     "text": [
      "C:\\Users\\lauri\\anaconda3\\lib\\site-packages\\sklearn\\cluster\\_kmeans.py:1382: UserWarning: KMeans is known to have a memory leak on Windows with MKL, when there are less chunks than available threads. You can avoid it by setting the environment variable OMP_NUM_THREADS=6.\n",
      "  warnings.warn(\n"
     ]
    },
    {
     "name": "stdout",
     "output_type": "stream",
     "text": [
      "spectral v 0.4996214147389438 spectral adjustred rand 0.42561458659773943\n",
      "\n",
      "\n",
      "done in 7.828682s\n",
      "n_samples: 1500, n_features: 1000\n",
      "\n",
      "kMeans ++ run number: 6\n",
      "Clustering sparse data with KMeans(max_iter=100, n_clusters=3, n_init=1, verbose=False)\n",
      "done in 7.862s\n",
      "K Means V-measure: 0.30597 Homogeneity: 0.26 Completeness: 0.37 Adjusted Rand-Index: 0.16\n",
      "ag v 0.2931513214733286  ag rand 0.03783116239664239 ag unique label length 146\n"
     ]
    },
    {
     "name": "stderr",
     "output_type": "stream",
     "text": [
      "C:\\Users\\lauri\\anaconda3\\lib\\site-packages\\sklearn\\cluster\\_kmeans.py:1382: UserWarning: KMeans is known to have a memory leak on Windows with MKL, when there are less chunks than available threads. You can avoid it by setting the environment variable OMP_NUM_THREADS=6.\n",
      "  warnings.warn(\n"
     ]
    },
    {
     "name": "stdout",
     "output_type": "stream",
     "text": [
      "spectral v 0.49962141473894367 spectral adjustred rand 0.42561458659773943\n",
      "\n",
      "\n",
      "done in 9.114097s\n",
      "n_samples: 1500, n_features: 1000\n",
      "\n",
      "kMeans ++ run number: 7\n",
      "Clustering sparse data with KMeans(max_iter=100, n_clusters=3, n_init=1, verbose=False)\n",
      "done in 9.145s\n",
      "K Means V-measure: 0.19109 Homogeneity: 0.19 Completeness: 0.19 Adjusted Rand-Index: 0.18\n",
      "ag v 0.2931513214733286  ag rand 0.03783116239664239 ag unique label length 146\n"
     ]
    },
    {
     "name": "stderr",
     "output_type": "stream",
     "text": [
      "C:\\Users\\lauri\\anaconda3\\lib\\site-packages\\sklearn\\cluster\\_kmeans.py:1382: UserWarning: KMeans is known to have a memory leak on Windows with MKL, when there are less chunks than available threads. You can avoid it by setting the environment variable OMP_NUM_THREADS=6.\n",
      "  warnings.warn(\n"
     ]
    },
    {
     "name": "stdout",
     "output_type": "stream",
     "text": [
      "spectral v 0.4996214147389438 spectral adjustred rand 0.42561458659773943\n",
      "\n",
      "\n",
      "done in 10.456359s\n",
      "n_samples: 1500, n_features: 1000\n",
      "\n",
      "kMeans ++ run number: 8\n",
      "Clustering sparse data with KMeans(max_iter=100, n_clusters=3, n_init=1, verbose=False)\n",
      "done in 10.492s\n",
      "K Means V-measure: 0.26762 Homogeneity: 0.24 Completeness: 0.30 Adjusted Rand-Index: 0.21\n",
      "ag v 0.2931513214733286  ag rand 0.03783116239664239 ag unique label length 146\n"
     ]
    },
    {
     "name": "stderr",
     "output_type": "stream",
     "text": [
      "C:\\Users\\lauri\\anaconda3\\lib\\site-packages\\sklearn\\cluster\\_kmeans.py:1382: UserWarning: KMeans is known to have a memory leak on Windows with MKL, when there are less chunks than available threads. You can avoid it by setting the environment variable OMP_NUM_THREADS=6.\n",
      "  warnings.warn(\n"
     ]
    },
    {
     "name": "stdout",
     "output_type": "stream",
     "text": [
      "spectral v 0.4996214147389438 spectral adjustred rand 0.42561458659773943\n",
      "\n",
      "\n",
      "done in 11.874303s\n",
      "n_samples: 1500, n_features: 1000\n",
      "\n",
      "kMeans ++ run number: 9\n",
      "Clustering sparse data with KMeans(max_iter=100, n_clusters=3, n_init=1, verbose=False)\n",
      "done in 11.907s\n",
      "K Means V-measure: 0.11566 Homogeneity: 0.10 Completeness: 0.13 Adjusted Rand-Index: 0.08\n",
      "ag v 0.2931513214733286  ag rand 0.03783116239664239 ag unique label length 146\n"
     ]
    },
    {
     "name": "stderr",
     "output_type": "stream",
     "text": [
      "C:\\Users\\lauri\\anaconda3\\lib\\site-packages\\sklearn\\cluster\\_kmeans.py:1382: UserWarning: KMeans is known to have a memory leak on Windows with MKL, when there are less chunks than available threads. You can avoid it by setting the environment variable OMP_NUM_THREADS=6.\n",
      "  warnings.warn(\n"
     ]
    },
    {
     "name": "stdout",
     "output_type": "stream",
     "text": [
      "spectral v 0.4996214147389438 spectral adjustred rand 0.42561458659773943\n",
      "\n",
      "\n",
      "done in 13.238678s\n",
      "n_samples: 1500, n_features: 1000\n",
      "\n",
      "kMeans ++ run number: 10\n",
      "Clustering sparse data with KMeans(max_iter=100, n_clusters=3, n_init=1, verbose=False)\n",
      "done in 13.271s\n",
      "K Means V-measure: 0.11055 Homogeneity: 0.11 Completeness: 0.11 Adjusted Rand-Index: 0.11\n",
      "ag v 0.2931513214733286  ag rand 0.03783116239664239 ag unique label length 146\n"
     ]
    },
    {
     "name": "stderr",
     "output_type": "stream",
     "text": [
      "C:\\Users\\lauri\\anaconda3\\lib\\site-packages\\sklearn\\cluster\\_kmeans.py:1382: UserWarning: KMeans is known to have a memory leak on Windows with MKL, when there are less chunks than available threads. You can avoid it by setting the environment variable OMP_NUM_THREADS=6.\n",
      "  warnings.warn(\n"
     ]
    },
    {
     "name": "stdout",
     "output_type": "stream",
     "text": [
      "spectral v 0.4996214147389438 spectral adjustred rand 0.42561458659773943\n",
      "\n",
      "\n",
      "1200 documents\n",
      "3 categories\n",
      "\n",
      "Extracting features from the training dataset using a sparse vectorizer\n",
      "done in 14.913179s\n",
      "n_samples: 1200, n_features: 1000\n",
      "\n",
      "kMeans ++ run number: 0\n",
      "Clustering sparse data with KMeans(max_iter=100, n_clusters=3, n_init=1, verbose=False)\n",
      "done in 14.945s\n",
      "K Means V-measure: 0.28649 Homogeneity: 0.28 Completeness: 0.29 Adjusted Rand-Index: 0.22\n",
      "ag v 0.3206571993339882  ag rand 0.02842937259523754 ag unique label length 148\n"
     ]
    },
    {
     "name": "stderr",
     "output_type": "stream",
     "text": [
      "C:\\Users\\lauri\\anaconda3\\lib\\site-packages\\sklearn\\cluster\\_kmeans.py:1382: UserWarning: KMeans is known to have a memory leak on Windows with MKL, when there are less chunks than available threads. You can avoid it by setting the environment variable OMP_NUM_THREADS=5.\n",
      "  warnings.warn(\n"
     ]
    },
    {
     "name": "stdout",
     "output_type": "stream",
     "text": [
      "spectral v 0.7630971529671222 spectral adjustred rand 0.8203336714028817\n",
      "\n",
      "\n",
      "done in 16.235809s\n",
      "n_samples: 1200, n_features: 1000\n",
      "\n",
      "kMeans ++ run number: 1\n",
      "Clustering sparse data with KMeans(max_iter=100, n_clusters=3, n_init=1, verbose=False)\n",
      "done in 16.271s\n",
      "K Means V-measure: 0.31348 Homogeneity: 0.31 Completeness: 0.32 Adjusted Rand-Index: 0.28\n",
      "ag v 0.3206571993339882  ag rand 0.02842937259523754 ag unique label length 148\n"
     ]
    },
    {
     "name": "stderr",
     "output_type": "stream",
     "text": [
      "C:\\Users\\lauri\\anaconda3\\lib\\site-packages\\sklearn\\cluster\\_kmeans.py:1382: UserWarning: KMeans is known to have a memory leak on Windows with MKL, when there are less chunks than available threads. You can avoid it by setting the environment variable OMP_NUM_THREADS=5.\n",
      "  warnings.warn(\n"
     ]
    },
    {
     "name": "stdout",
     "output_type": "stream",
     "text": [
      "spectral v 0.7630971529671221 spectral adjustred rand 0.8203336714028817\n",
      "\n",
      "\n",
      "done in 17.536169s\n",
      "n_samples: 1200, n_features: 1000\n",
      "\n",
      "kMeans ++ run number: 2\n",
      "Clustering sparse data with KMeans(max_iter=100, n_clusters=3, n_init=1, verbose=False)\n",
      "done in 17.571s\n",
      "K Means V-measure: 0.34573 Homogeneity: 0.34 Completeness: 0.35 Adjusted Rand-Index: 0.29\n",
      "ag v 0.3206571993339882  ag rand 0.02842937259523754 ag unique label length 148\n"
     ]
    },
    {
     "name": "stderr",
     "output_type": "stream",
     "text": [
      "C:\\Users\\lauri\\anaconda3\\lib\\site-packages\\sklearn\\cluster\\_kmeans.py:1382: UserWarning: KMeans is known to have a memory leak on Windows with MKL, when there are less chunks than available threads. You can avoid it by setting the environment variable OMP_NUM_THREADS=5.\n",
      "  warnings.warn(\n"
     ]
    },
    {
     "name": "stdout",
     "output_type": "stream",
     "text": [
      "spectral v 0.7630971529671222 spectral adjustred rand 0.8203336714028817\n",
      "\n",
      "\n",
      "done in 18.831268s\n",
      "n_samples: 1200, n_features: 1000\n",
      "\n",
      "kMeans ++ run number: 3\n",
      "Clustering sparse data with KMeans(max_iter=100, n_clusters=3, n_init=1, verbose=False)\n",
      "done in 18.861s\n",
      "K Means V-measure: 0.28324 Homogeneity: 0.28 Completeness: 0.29 Adjusted Rand-Index: 0.21\n",
      "ag v 0.3206571993339882  ag rand 0.02842937259523754 ag unique label length 148\n"
     ]
    },
    {
     "name": "stderr",
     "output_type": "stream",
     "text": [
      "C:\\Users\\lauri\\anaconda3\\lib\\site-packages\\sklearn\\cluster\\_kmeans.py:1382: UserWarning: KMeans is known to have a memory leak on Windows with MKL, when there are less chunks than available threads. You can avoid it by setting the environment variable OMP_NUM_THREADS=5.\n",
      "  warnings.warn(\n"
     ]
    },
    {
     "name": "stdout",
     "output_type": "stream",
     "text": [
      "spectral v 0.7630971529671221 spectral adjustred rand 0.8203336714028817\n",
      "\n",
      "\n",
      "done in 20.193807s\n",
      "n_samples: 1200, n_features: 1000\n",
      "\n",
      "kMeans ++ run number: 4\n",
      "Clustering sparse data with KMeans(max_iter=100, n_clusters=3, n_init=1, verbose=False)\n",
      "done in 20.224s\n",
      "K Means V-measure: 0.27945 Homogeneity: 0.27 Completeness: 0.29 Adjusted Rand-Index: 0.21\n",
      "ag v 0.3206571993339882  ag rand 0.02842937259523754 ag unique label length 148\n"
     ]
    },
    {
     "name": "stderr",
     "output_type": "stream",
     "text": [
      "C:\\Users\\lauri\\anaconda3\\lib\\site-packages\\sklearn\\cluster\\_kmeans.py:1382: UserWarning: KMeans is known to have a memory leak on Windows with MKL, when there are less chunks than available threads. You can avoid it by setting the environment variable OMP_NUM_THREADS=5.\n",
      "  warnings.warn(\n"
     ]
    },
    {
     "name": "stdout",
     "output_type": "stream",
     "text": [
      "spectral v 0.7630971529671222 spectral adjustred rand 0.8203336714028817\n",
      "\n",
      "\n",
      "done in 21.489172s\n",
      "n_samples: 1200, n_features: 1000\n",
      "\n",
      "kMeans ++ run number: 5\n",
      "Clustering sparse data with KMeans(max_iter=100, n_clusters=3, n_init=1, verbose=False)\n",
      "done in 21.519s\n",
      "K Means V-measure: 0.27065 Homogeneity: 0.26 Completeness: 0.28 Adjusted Rand-Index: 0.20\n",
      "ag v 0.3206571993339882  ag rand 0.02842937259523754 ag unique label length 148\n"
     ]
    },
    {
     "name": "stderr",
     "output_type": "stream",
     "text": [
      "C:\\Users\\lauri\\anaconda3\\lib\\site-packages\\sklearn\\cluster\\_kmeans.py:1382: UserWarning: KMeans is known to have a memory leak on Windows with MKL, when there are less chunks than available threads. You can avoid it by setting the environment variable OMP_NUM_THREADS=5.\n",
      "  warnings.warn(\n"
     ]
    },
    {
     "name": "stdout",
     "output_type": "stream",
     "text": [
      "spectral v 0.7630971529671222 spectral adjustred rand 0.8203336714028817\n",
      "\n",
      "\n",
      "done in 22.959873s\n",
      "n_samples: 1200, n_features: 1000\n",
      "\n",
      "kMeans ++ run number: 6\n",
      "Clustering sparse data with KMeans(max_iter=100, n_clusters=3, n_init=1, verbose=False)\n",
      "done in 22.991s\n",
      "K Means V-measure: 0.61657 Homogeneity: 0.60 Completeness: 0.63 Adjusted Rand-Index: 0.57\n",
      "ag v 0.3206571993339882  ag rand 0.02842937259523754 ag unique label length 148\n"
     ]
    },
    {
     "name": "stderr",
     "output_type": "stream",
     "text": [
      "C:\\Users\\lauri\\anaconda3\\lib\\site-packages\\sklearn\\cluster\\_kmeans.py:1382: UserWarning: KMeans is known to have a memory leak on Windows with MKL, when there are less chunks than available threads. You can avoid it by setting the environment variable OMP_NUM_THREADS=5.\n",
      "  warnings.warn(\n"
     ]
    },
    {
     "name": "stdout",
     "output_type": "stream",
     "text": [
      "spectral v 0.7630971529671222 spectral adjustred rand 0.8203336714028817\n",
      "\n",
      "\n",
      "done in 24.317968s\n",
      "n_samples: 1200, n_features: 1000\n",
      "\n",
      "kMeans ++ run number: 7\n",
      "Clustering sparse data with KMeans(max_iter=100, n_clusters=3, n_init=1, verbose=False)\n",
      "done in 24.346s\n",
      "K Means V-measure: 0.69829 Homogeneity: 0.69 Completeness: 0.70 Adjusted Rand-Index: 0.74\n",
      "ag v 0.3206571993339882  ag rand 0.02842937259523754 ag unique label length 148\n"
     ]
    },
    {
     "name": "stderr",
     "output_type": "stream",
     "text": [
      "C:\\Users\\lauri\\anaconda3\\lib\\site-packages\\sklearn\\cluster\\_kmeans.py:1382: UserWarning: KMeans is known to have a memory leak on Windows with MKL, when there are less chunks than available threads. You can avoid it by setting the environment variable OMP_NUM_THREADS=5.\n",
      "  warnings.warn(\n"
     ]
    },
    {
     "name": "stdout",
     "output_type": "stream",
     "text": [
      "spectral v 0.7630971529671221 spectral adjustred rand 0.8203336714028817\n",
      "\n",
      "\n",
      "done in 25.618682s\n",
      "n_samples: 1200, n_features: 1000\n",
      "\n",
      "kMeans ++ run number: 8\n",
      "Clustering sparse data with KMeans(max_iter=100, n_clusters=3, n_init=1, verbose=False)\n",
      "done in 25.645s\n",
      "K Means V-measure: 0.32772 Homogeneity: 0.32 Completeness: 0.34 Adjusted Rand-Index: 0.27\n",
      "ag v 0.3206571993339882  ag rand 0.02842937259523754 ag unique label length 148\n"
     ]
    },
    {
     "name": "stderr",
     "output_type": "stream",
     "text": [
      "C:\\Users\\lauri\\anaconda3\\lib\\site-packages\\sklearn\\cluster\\_kmeans.py:1382: UserWarning: KMeans is known to have a memory leak on Windows with MKL, when there are less chunks than available threads. You can avoid it by setting the environment variable OMP_NUM_THREADS=5.\n",
      "  warnings.warn(\n"
     ]
    },
    {
     "name": "stdout",
     "output_type": "stream",
     "text": [
      "spectral v 0.7630971529671222 spectral adjustred rand 0.8203336714028817\n",
      "\n",
      "\n",
      "done in 26.903135s\n",
      "n_samples: 1200, n_features: 1000\n",
      "\n",
      "kMeans ++ run number: 9\n",
      "Clustering sparse data with KMeans(max_iter=100, n_clusters=3, n_init=1, verbose=False)\n",
      "done in 26.932s\n",
      "K Means V-measure: 0.30695 Homogeneity: 0.30 Completeness: 0.31 Adjusted Rand-Index: 0.25\n",
      "ag v 0.3206571993339882  ag rand 0.02842937259523754 ag unique label length 148\n"
     ]
    },
    {
     "name": "stderr",
     "output_type": "stream",
     "text": [
      "C:\\Users\\lauri\\anaconda3\\lib\\site-packages\\sklearn\\cluster\\_kmeans.py:1382: UserWarning: KMeans is known to have a memory leak on Windows with MKL, when there are less chunks than available threads. You can avoid it by setting the environment variable OMP_NUM_THREADS=5.\n",
      "  warnings.warn(\n"
     ]
    },
    {
     "name": "stdout",
     "output_type": "stream",
     "text": [
      "spectral v 0.7630971529671221 spectral adjustred rand 0.8203336714028817\n",
      "\n",
      "\n",
      "done in 28.181859s\n",
      "n_samples: 1200, n_features: 1000\n",
      "\n",
      "kMeans ++ run number: 10\n",
      "Clustering sparse data with KMeans(max_iter=100, n_clusters=3, n_init=1, verbose=False)\n",
      "done in 28.210s\n",
      "K Means V-measure: 0.28648 Homogeneity: 0.28 Completeness: 0.29 Adjusted Rand-Index: 0.22\n",
      "ag v 0.3206571993339882  ag rand 0.02842937259523754 ag unique label length 148\n"
     ]
    },
    {
     "name": "stderr",
     "output_type": "stream",
     "text": [
      "C:\\Users\\lauri\\anaconda3\\lib\\site-packages\\sklearn\\cluster\\_kmeans.py:1382: UserWarning: KMeans is known to have a memory leak on Windows with MKL, when there are less chunks than available threads. You can avoid it by setting the environment variable OMP_NUM_THREADS=5.\n",
      "  warnings.warn(\n"
     ]
    },
    {
     "name": "stdout",
     "output_type": "stream",
     "text": [
      "spectral v 0.7630971529671222 spectral adjustred rand 0.8203336714028817\n",
      "\n",
      "\n",
      "2000 documents\n",
      "4 categories\n",
      "\n",
      "Extracting features from the training dataset using a sparse vectorizer\n",
      "done in 29.333395s\n",
      "n_samples: 2000, n_features: 1000\n",
      "\n",
      "kMeans ++ run number: 0\n",
      "Clustering sparse data with KMeans(max_iter=100, n_clusters=4, n_init=1, verbose=False)\n",
      "done in 29.361s\n",
      "K Means V-measure: 0.41811 Homogeneity: 0.40 Completeness: 0.44 Adjusted Rand-Index: 0.33\n",
      "ag v 0.3419645099050147  ag rand 0.036864363223099675 ag unique label length 207\n"
     ]
    },
    {
     "name": "stderr",
     "output_type": "stream",
     "text": [
      "C:\\Users\\lauri\\anaconda3\\lib\\site-packages\\sklearn\\cluster\\_kmeans.py:1382: UserWarning: KMeans is known to have a memory leak on Windows with MKL, when there are less chunks than available threads. You can avoid it by setting the environment variable OMP_NUM_THREADS=8.\n",
      "  warnings.warn(\n"
     ]
    },
    {
     "name": "stdout",
     "output_type": "stream",
     "text": [
      "spectral v 0.36663137381327515 spectral adjustred rand 0.20796503951810053\n",
      "\n",
      "\n",
      "done in 31.492922s\n",
      "n_samples: 2000, n_features: 1000\n",
      "\n",
      "kMeans ++ run number: 1\n",
      "Clustering sparse data with KMeans(max_iter=100, n_clusters=4, n_init=1, verbose=False)\n",
      "done in 31.528s\n",
      "K Means V-measure: 0.18779 Homogeneity: 0.18 Completeness: 0.19 Adjusted Rand-Index: 0.14\n",
      "ag v 0.3419645099050147  ag rand 0.036864363223099675 ag unique label length 207\n"
     ]
    },
    {
     "name": "stderr",
     "output_type": "stream",
     "text": [
      "C:\\Users\\lauri\\anaconda3\\lib\\site-packages\\sklearn\\cluster\\_kmeans.py:1382: UserWarning: KMeans is known to have a memory leak on Windows with MKL, when there are less chunks than available threads. You can avoid it by setting the environment variable OMP_NUM_THREADS=8.\n",
      "  warnings.warn(\n"
     ]
    },
    {
     "name": "stdout",
     "output_type": "stream",
     "text": [
      "spectral v 0.36663137381327515 spectral adjustred rand 0.20796503951810053\n",
      "\n",
      "\n",
      "done in 33.668145s\n",
      "n_samples: 2000, n_features: 1000\n",
      "\n",
      "kMeans ++ run number: 2\n",
      "Clustering sparse data with KMeans(max_iter=100, n_clusters=4, n_init=1, verbose=False)\n",
      "done in 33.692s\n",
      "K Means V-measure: 0.20806 Homogeneity: 0.20 Completeness: 0.21 Adjusted Rand-Index: 0.14\n",
      "ag v 0.3419645099050147  ag rand 0.036864363223099675 ag unique label length 207\n"
     ]
    },
    {
     "name": "stderr",
     "output_type": "stream",
     "text": [
      "C:\\Users\\lauri\\anaconda3\\lib\\site-packages\\sklearn\\cluster\\_kmeans.py:1382: UserWarning: KMeans is known to have a memory leak on Windows with MKL, when there are less chunks than available threads. You can avoid it by setting the environment variable OMP_NUM_THREADS=8.\n",
      "  warnings.warn(\n"
     ]
    },
    {
     "name": "stdout",
     "output_type": "stream",
     "text": [
      "spectral v 0.36663137381327515 spectral adjustred rand 0.20796503951810053\n",
      "\n",
      "\n",
      "done in 35.801094s\n",
      "n_samples: 2000, n_features: 1000\n",
      "\n",
      "kMeans ++ run number: 3\n",
      "Clustering sparse data with KMeans(max_iter=100, n_clusters=4, n_init=1, verbose=False)\n",
      "done in 35.839s\n",
      "K Means V-measure: 0.47755 Homogeneity: 0.47 Completeness: 0.48 Adjusted Rand-Index: 0.38\n",
      "ag v 0.3419645099050147  ag rand 0.036864363223099675 ag unique label length 207\n"
     ]
    },
    {
     "name": "stderr",
     "output_type": "stream",
     "text": [
      "C:\\Users\\lauri\\anaconda3\\lib\\site-packages\\sklearn\\cluster\\_kmeans.py:1382: UserWarning: KMeans is known to have a memory leak on Windows with MKL, when there are less chunks than available threads. You can avoid it by setting the environment variable OMP_NUM_THREADS=8.\n",
      "  warnings.warn(\n"
     ]
    },
    {
     "name": "stdout",
     "output_type": "stream",
     "text": [
      "spectral v 0.3654481735070524 spectral adjustred rand 0.20682366483846568\n",
      "\n",
      "\n",
      "done in 38.087897s\n",
      "n_samples: 2000, n_features: 1000\n",
      "\n",
      "kMeans ++ run number: 4\n",
      "Clustering sparse data with KMeans(max_iter=100, n_clusters=4, n_init=1, verbose=False)\n",
      "done in 38.130s\n",
      "K Means V-measure: 0.18503 Homogeneity: 0.18 Completeness: 0.20 Adjusted Rand-Index: 0.12\n",
      "ag v 0.3419645099050147  ag rand 0.036864363223099675 ag unique label length 207\n"
     ]
    },
    {
     "name": "stderr",
     "output_type": "stream",
     "text": [
      "C:\\Users\\lauri\\anaconda3\\lib\\site-packages\\sklearn\\cluster\\_kmeans.py:1382: UserWarning: KMeans is known to have a memory leak on Windows with MKL, when there are less chunks than available threads. You can avoid it by setting the environment variable OMP_NUM_THREADS=8.\n",
      "  warnings.warn(\n"
     ]
    },
    {
     "name": "stdout",
     "output_type": "stream",
     "text": [
      "spectral v 0.3666313738132752 spectral adjustred rand 0.20796503951810053\n",
      "\n",
      "\n",
      "done in 40.472974s\n",
      "n_samples: 2000, n_features: 1000\n",
      "\n",
      "kMeans ++ run number: 5\n",
      "Clustering sparse data with KMeans(max_iter=100, n_clusters=4, n_init=1, verbose=False)\n",
      "done in 40.504s\n",
      "K Means V-measure: 0.43208 Homogeneity: 0.43 Completeness: 0.44 Adjusted Rand-Index: 0.37\n",
      "ag v 0.3419645099050147  ag rand 0.036864363223099675 ag unique label length 207\n"
     ]
    },
    {
     "name": "stderr",
     "output_type": "stream",
     "text": [
      "C:\\Users\\lauri\\anaconda3\\lib\\site-packages\\sklearn\\cluster\\_kmeans.py:1382: UserWarning: KMeans is known to have a memory leak on Windows with MKL, when there are less chunks than available threads. You can avoid it by setting the environment variable OMP_NUM_THREADS=8.\n",
      "  warnings.warn(\n"
     ]
    },
    {
     "name": "stdout",
     "output_type": "stream",
     "text": [
      "spectral v 0.36663137381327515 spectral adjustred rand 0.20796503951810053\n",
      "\n",
      "\n",
      "done in 42.646949s\n",
      "n_samples: 2000, n_features: 1000\n",
      "\n",
      "kMeans ++ run number: 6\n",
      "Clustering sparse data with KMeans(max_iter=100, n_clusters=4, n_init=1, verbose=False)\n",
      "done in 42.694s\n",
      "K Means V-measure: 0.40121 Homogeneity: 0.39 Completeness: 0.41 Adjusted Rand-Index: 0.31\n",
      "ag v 0.3419645099050147  ag rand 0.036864363223099675 ag unique label length 207\n"
     ]
    },
    {
     "name": "stderr",
     "output_type": "stream",
     "text": [
      "C:\\Users\\lauri\\anaconda3\\lib\\site-packages\\sklearn\\cluster\\_kmeans.py:1382: UserWarning: KMeans is known to have a memory leak on Windows with MKL, when there are less chunks than available threads. You can avoid it by setting the environment variable OMP_NUM_THREADS=8.\n",
      "  warnings.warn(\n"
     ]
    },
    {
     "name": "stdout",
     "output_type": "stream",
     "text": [
      "spectral v 0.3654481735070525 spectral adjustred rand 0.20682366483846568\n",
      "\n",
      "\n",
      "done in 44.738550s\n",
      "n_samples: 2000, n_features: 1000\n",
      "\n",
      "kMeans ++ run number: 7\n",
      "Clustering sparse data with KMeans(max_iter=100, n_clusters=4, n_init=1, verbose=False)\n",
      "done in 44.777s\n",
      "K Means V-measure: 0.54911 Homogeneity: 0.52 Completeness: 0.58 Adjusted Rand-Index: 0.42\n",
      "ag v 0.3419645099050147  ag rand 0.036864363223099675 ag unique label length 207\n"
     ]
    },
    {
     "name": "stderr",
     "output_type": "stream",
     "text": [
      "C:\\Users\\lauri\\anaconda3\\lib\\site-packages\\sklearn\\cluster\\_kmeans.py:1382: UserWarning: KMeans is known to have a memory leak on Windows with MKL, when there are less chunks than available threads. You can avoid it by setting the environment variable OMP_NUM_THREADS=8.\n",
      "  warnings.warn(\n"
     ]
    },
    {
     "name": "stdout",
     "output_type": "stream",
     "text": [
      "spectral v 0.3654481735070524 spectral adjustred rand 0.20682366483846568\n",
      "\n",
      "\n",
      "done in 46.851786s\n",
      "n_samples: 2000, n_features: 1000\n",
      "\n",
      "kMeans ++ run number: 8\n",
      "Clustering sparse data with KMeans(max_iter=100, n_clusters=4, n_init=1, verbose=False)\n",
      "done in 46.879s\n",
      "K Means V-measure: 0.37325 Homogeneity: 0.34 Completeness: 0.41 Adjusted Rand-Index: 0.25\n",
      "ag v 0.3419645099050147  ag rand 0.036864363223099675 ag unique label length 207\n"
     ]
    },
    {
     "name": "stderr",
     "output_type": "stream",
     "text": [
      "C:\\Users\\lauri\\anaconda3\\lib\\site-packages\\sklearn\\cluster\\_kmeans.py:1382: UserWarning: KMeans is known to have a memory leak on Windows with MKL, when there are less chunks than available threads. You can avoid it by setting the environment variable OMP_NUM_THREADS=8.\n",
      "  warnings.warn(\n"
     ]
    },
    {
     "name": "stdout",
     "output_type": "stream",
     "text": [
      "spectral v 0.36663137381327515 spectral adjustred rand 0.20796503951810053\n",
      "\n",
      "\n",
      "done in 49.083248s\n",
      "n_samples: 2000, n_features: 1000\n",
      "\n",
      "kMeans ++ run number: 9\n",
      "Clustering sparse data with KMeans(max_iter=100, n_clusters=4, n_init=1, verbose=False)\n",
      "done in 49.114s\n",
      "K Means V-measure: 0.31720 Homogeneity: 0.30 Completeness: 0.33 Adjusted Rand-Index: 0.28\n",
      "ag v 0.3419645099050147  ag rand 0.036864363223099675 ag unique label length 207\n"
     ]
    },
    {
     "name": "stderr",
     "output_type": "stream",
     "text": [
      "C:\\Users\\lauri\\anaconda3\\lib\\site-packages\\sklearn\\cluster\\_kmeans.py:1382: UserWarning: KMeans is known to have a memory leak on Windows with MKL, when there are less chunks than available threads. You can avoid it by setting the environment variable OMP_NUM_THREADS=8.\n",
      "  warnings.warn(\n"
     ]
    },
    {
     "name": "stdout",
     "output_type": "stream",
     "text": [
      "spectral v 0.36556392846511154 spectral adjustred rand 0.20598097801740595\n",
      "\n",
      "\n",
      "done in 51.285228s\n",
      "n_samples: 2000, n_features: 1000\n",
      "\n",
      "kMeans ++ run number: 10\n",
      "Clustering sparse data with KMeans(max_iter=100, n_clusters=4, n_init=1, verbose=False)\n",
      "done in 51.316s\n",
      "K Means V-measure: 0.44055 Homogeneity: 0.43 Completeness: 0.45 Adjusted Rand-Index: 0.38\n",
      "ag v 0.3419645099050147  ag rand 0.036864363223099675 ag unique label length 207\n"
     ]
    },
    {
     "name": "stderr",
     "output_type": "stream",
     "text": [
      "C:\\Users\\lauri\\anaconda3\\lib\\site-packages\\sklearn\\cluster\\_kmeans.py:1382: UserWarning: KMeans is known to have a memory leak on Windows with MKL, when there are less chunks than available threads. You can avoid it by setting the environment variable OMP_NUM_THREADS=8.\n",
      "  warnings.warn(\n"
     ]
    },
    {
     "name": "stdout",
     "output_type": "stream",
     "text": [
      "spectral v 0.36663137381327515 spectral adjustred rand 0.20796503951810053\n",
      "\n",
      "\n",
      "800 documents\n",
      "4 categories\n",
      "\n",
      "Extracting features from the training dataset using a sparse vectorizer\n",
      "done in 53.582304s\n",
      "n_samples: 800, n_features: 1000\n",
      "\n",
      "kMeans ++ run number: 0\n",
      "Clustering sparse data with KMeans(max_iter=100, n_clusters=4, n_init=1, verbose=False)\n",
      "done in 53.614s\n",
      "K Means V-measure: 0.27498 Homogeneity: 0.25 Completeness: 0.30 Adjusted Rand-Index: 0.16\n",
      "ag v 0.4422729501917088  ag rand 0.09857258803102673 ag unique label length 68\n"
     ]
    },
    {
     "name": "stderr",
     "output_type": "stream",
     "text": [
      "C:\\Users\\lauri\\anaconda3\\lib\\site-packages\\sklearn\\cluster\\_kmeans.py:1382: UserWarning: KMeans is known to have a memory leak on Windows with MKL, when there are less chunks than available threads. You can avoid it by setting the environment variable OMP_NUM_THREADS=4.\n",
      "  warnings.warn(\n"
     ]
    },
    {
     "name": "stdout",
     "output_type": "stream",
     "text": [
      "spectral v 0.3719033355912425 spectral adjustred rand 0.16119446397649706\n",
      "\n",
      "\n",
      "done in 54.379853s\n",
      "n_samples: 800, n_features: 1000\n",
      "\n",
      "kMeans ++ run number: 1\n",
      "Clustering sparse data with KMeans(max_iter=100, n_clusters=4, n_init=1, verbose=False)\n",
      "done in 54.411s\n",
      "K Means V-measure: 0.46900 Homogeneity: 0.46 Completeness: 0.48 Adjusted Rand-Index: 0.38\n",
      "ag v 0.4422729501917088  ag rand 0.09857258803102673 ag unique label length 68\n"
     ]
    },
    {
     "name": "stderr",
     "output_type": "stream",
     "text": [
      "C:\\Users\\lauri\\anaconda3\\lib\\site-packages\\sklearn\\cluster\\_kmeans.py:1382: UserWarning: KMeans is known to have a memory leak on Windows with MKL, when there are less chunks than available threads. You can avoid it by setting the environment variable OMP_NUM_THREADS=4.\n",
      "  warnings.warn(\n"
     ]
    },
    {
     "name": "stdout",
     "output_type": "stream",
     "text": [
      "spectral v 0.37190333559124256 spectral adjustred rand 0.16119446397649706\n",
      "\n",
      "\n",
      "done in 55.176247s\n",
      "n_samples: 800, n_features: 1000\n",
      "\n",
      "kMeans ++ run number: 2\n",
      "Clustering sparse data with KMeans(max_iter=100, n_clusters=4, n_init=1, verbose=False)\n",
      "done in 55.211s\n",
      "K Means V-measure: 0.34471 Homogeneity: 0.31 Completeness: 0.39 Adjusted Rand-Index: 0.19\n",
      "ag v 0.4422729501917088  ag rand 0.09857258803102673 ag unique label length 68\n"
     ]
    },
    {
     "name": "stderr",
     "output_type": "stream",
     "text": [
      "C:\\Users\\lauri\\anaconda3\\lib\\site-packages\\sklearn\\cluster\\_kmeans.py:1382: UserWarning: KMeans is known to have a memory leak on Windows with MKL, when there are less chunks than available threads. You can avoid it by setting the environment variable OMP_NUM_THREADS=4.\n",
      "  warnings.warn(\n"
     ]
    },
    {
     "name": "stdout",
     "output_type": "stream",
     "text": [
      "spectral v 0.37190333559124256 spectral adjustred rand 0.16119446397649706\n",
      "\n",
      "\n",
      "done in 55.992199s\n",
      "n_samples: 800, n_features: 1000\n",
      "\n",
      "kMeans ++ run number: 3\n",
      "Clustering sparse data with KMeans(max_iter=100, n_clusters=4, n_init=1, verbose=False)\n",
      "done in 56.023s\n",
      "K Means V-measure: 0.32998 Homogeneity: 0.30 Completeness: 0.37 Adjusted Rand-Index: 0.18\n",
      "ag v 0.4422729501917088  ag rand 0.09857258803102673 ag unique label length 68\n"
     ]
    },
    {
     "name": "stderr",
     "output_type": "stream",
     "text": [
      "C:\\Users\\lauri\\anaconda3\\lib\\site-packages\\sklearn\\cluster\\_kmeans.py:1382: UserWarning: KMeans is known to have a memory leak on Windows with MKL, when there are less chunks than available threads. You can avoid it by setting the environment variable OMP_NUM_THREADS=4.\n",
      "  warnings.warn(\n"
     ]
    },
    {
     "name": "stdout",
     "output_type": "stream",
     "text": [
      "spectral v 0.3719033355912425 spectral adjustred rand 0.16119446397649706\n",
      "\n",
      "\n",
      "done in 56.754647s\n",
      "n_samples: 800, n_features: 1000\n",
      "\n",
      "kMeans ++ run number: 4\n",
      "Clustering sparse data with KMeans(max_iter=100, n_clusters=4, n_init=1, verbose=False)\n",
      "done in 56.771s\n",
      "K Means V-measure: 0.17015 Homogeneity: 0.14 Completeness: 0.21 Adjusted Rand-Index: 0.11\n",
      "ag v 0.4422729501917088  ag rand 0.09857258803102673 ag unique label length 68\n"
     ]
    },
    {
     "name": "stderr",
     "output_type": "stream",
     "text": [
      "C:\\Users\\lauri\\anaconda3\\lib\\site-packages\\sklearn\\cluster\\_kmeans.py:1382: UserWarning: KMeans is known to have a memory leak on Windows with MKL, when there are less chunks than available threads. You can avoid it by setting the environment variable OMP_NUM_THREADS=4.\n",
      "  warnings.warn(\n"
     ]
    },
    {
     "name": "stdout",
     "output_type": "stream",
     "text": [
      "spectral v 0.3719033355912425 spectral adjustred rand 0.16119446397649706\n",
      "\n",
      "\n",
      "done in 57.543926s\n",
      "n_samples: 800, n_features: 1000\n",
      "\n",
      "kMeans ++ run number: 5\n",
      "Clustering sparse data with KMeans(max_iter=100, n_clusters=4, n_init=1, verbose=False)\n",
      "done in 57.566s\n",
      "K Means V-measure: 0.36518 Homogeneity: 0.33 Completeness: 0.41 Adjusted Rand-Index: 0.22\n",
      "ag v 0.4422729501917088  ag rand 0.09857258803102673 ag unique label length 68\n"
     ]
    },
    {
     "name": "stderr",
     "output_type": "stream",
     "text": [
      "C:\\Users\\lauri\\anaconda3\\lib\\site-packages\\sklearn\\cluster\\_kmeans.py:1382: UserWarning: KMeans is known to have a memory leak on Windows with MKL, when there are less chunks than available threads. You can avoid it by setting the environment variable OMP_NUM_THREADS=4.\n",
      "  warnings.warn(\n"
     ]
    },
    {
     "name": "stdout",
     "output_type": "stream",
     "text": [
      "spectral v 0.3719033355912425 spectral adjustred rand 0.16119446397649706\n",
      "\n",
      "\n",
      "done in 58.358649s\n",
      "n_samples: 800, n_features: 1000\n",
      "\n",
      "kMeans ++ run number: 6\n",
      "Clustering sparse data with KMeans(max_iter=100, n_clusters=4, n_init=1, verbose=False)\n",
      "done in 58.396s\n",
      "K Means V-measure: 0.28337 Homogeneity: 0.25 Completeness: 0.33 Adjusted Rand-Index: 0.14\n",
      "ag v 0.4422729501917088  ag rand 0.09857258803102673 ag unique label length 68\n"
     ]
    },
    {
     "name": "stderr",
     "output_type": "stream",
     "text": [
      "C:\\Users\\lauri\\anaconda3\\lib\\site-packages\\sklearn\\cluster\\_kmeans.py:1382: UserWarning: KMeans is known to have a memory leak on Windows with MKL, when there are less chunks than available threads. You can avoid it by setting the environment variable OMP_NUM_THREADS=4.\n",
      "  warnings.warn(\n"
     ]
    },
    {
     "name": "stdout",
     "output_type": "stream",
     "text": [
      "spectral v 0.37190333559124256 spectral adjustred rand 0.16119446397649706\n",
      "\n",
      "\n",
      "done in 59.177052s\n",
      "n_samples: 800, n_features: 1000\n",
      "\n",
      "kMeans ++ run number: 7\n",
      "Clustering sparse data with KMeans(max_iter=100, n_clusters=4, n_init=1, verbose=False)\n",
      "done in 59.208s\n",
      "K Means V-measure: 0.31098 Homogeneity: 0.28 Completeness: 0.35 Adjusted Rand-Index: 0.17\n",
      "ag v 0.4422729501917088  ag rand 0.09857258803102673 ag unique label length 68\n"
     ]
    },
    {
     "name": "stderr",
     "output_type": "stream",
     "text": [
      "C:\\Users\\lauri\\anaconda3\\lib\\site-packages\\sklearn\\cluster\\_kmeans.py:1382: UserWarning: KMeans is known to have a memory leak on Windows with MKL, when there are less chunks than available threads. You can avoid it by setting the environment variable OMP_NUM_THREADS=4.\n",
      "  warnings.warn(\n"
     ]
    },
    {
     "name": "stdout",
     "output_type": "stream",
     "text": [
      "spectral v 0.3719033355912425 spectral adjustred rand 0.16119446397649706\n",
      "\n",
      "\n",
      "done in 59.967965s\n",
      "n_samples: 800, n_features: 1000\n",
      "\n",
      "kMeans ++ run number: 8\n",
      "Clustering sparse data with KMeans(max_iter=100, n_clusters=4, n_init=1, verbose=False)\n",
      "done in 59.996s\n",
      "K Means V-measure: 0.42599 Homogeneity: 0.40 Completeness: 0.45 Adjusted Rand-Index: 0.37\n",
      "ag v 0.4422729501917088  ag rand 0.09857258803102673 ag unique label length 68\n"
     ]
    },
    {
     "name": "stderr",
     "output_type": "stream",
     "text": [
      "C:\\Users\\lauri\\anaconda3\\lib\\site-packages\\sklearn\\cluster\\_kmeans.py:1382: UserWarning: KMeans is known to have a memory leak on Windows with MKL, when there are less chunks than available threads. You can avoid it by setting the environment variable OMP_NUM_THREADS=4.\n",
      "  warnings.warn(\n"
     ]
    },
    {
     "name": "stdout",
     "output_type": "stream",
     "text": [
      "spectral v 0.3719033355912425 spectral adjustred rand 0.16119446397649706\n",
      "\n",
      "\n",
      "done in 60.737643s\n",
      "n_samples: 800, n_features: 1000\n",
      "\n",
      "kMeans ++ run number: 9\n",
      "Clustering sparse data with KMeans(max_iter=100, n_clusters=4, n_init=1, verbose=False)\n",
      "done in 60.770s\n",
      "K Means V-measure: 0.28337 Homogeneity: 0.25 Completeness: 0.33 Adjusted Rand-Index: 0.14\n",
      "ag v 0.4422729501917088  ag rand 0.09857258803102673 ag unique label length 68\n"
     ]
    },
    {
     "name": "stderr",
     "output_type": "stream",
     "text": [
      "C:\\Users\\lauri\\anaconda3\\lib\\site-packages\\sklearn\\cluster\\_kmeans.py:1382: UserWarning: KMeans is known to have a memory leak on Windows with MKL, when there are less chunks than available threads. You can avoid it by setting the environment variable OMP_NUM_THREADS=4.\n",
      "  warnings.warn(\n"
     ]
    },
    {
     "name": "stdout",
     "output_type": "stream",
     "text": [
      "spectral v 0.3719033355912425 spectral adjustred rand 0.16119446397649706\n",
      "\n",
      "\n",
      "done in 61.516581s\n",
      "n_samples: 800, n_features: 1000\n",
      "\n",
      "kMeans ++ run number: 10\n",
      "Clustering sparse data with KMeans(max_iter=100, n_clusters=4, n_init=1, verbose=False)\n",
      "done in 61.536s\n",
      "K Means V-measure: 0.28096 Homogeneity: 0.24 Completeness: 0.33 Adjusted Rand-Index: 0.14\n",
      "ag v 0.4422729501917088  ag rand 0.09857258803102673 ag unique label length 68\n"
     ]
    },
    {
     "name": "stderr",
     "output_type": "stream",
     "text": [
      "C:\\Users\\lauri\\anaconda3\\lib\\site-packages\\sklearn\\cluster\\_kmeans.py:1382: UserWarning: KMeans is known to have a memory leak on Windows with MKL, when there are less chunks than available threads. You can avoid it by setting the environment variable OMP_NUM_THREADS=4.\n",
      "  warnings.warn(\n"
     ]
    },
    {
     "name": "stdout",
     "output_type": "stream",
     "text": [
      "spectral v 0.37190333559124256 spectral adjustred rand 0.16119446397649706\n",
      "\n",
      "\n",
      "2000 documents\n",
      "5 categories\n",
      "\n",
      "Extracting features from the training dataset using a sparse vectorizer\n",
      "done in 62.956854s\n",
      "n_samples: 2000, n_features: 1000\n",
      "\n",
      "kMeans ++ run number: 0\n",
      "Clustering sparse data with KMeans(max_iter=100, n_clusters=5, n_init=1, verbose=False)\n",
      "done in 62.983s\n",
      "K Means V-measure: 0.27960 Homogeneity: 0.28 Completeness: 0.28 Adjusted Rand-Index: 0.20\n",
      "ag v 0.34844891544417994  ag rand 0.026296255757636302 ag unique label length 244\n"
     ]
    },
    {
     "name": "stderr",
     "output_type": "stream",
     "text": [
      "C:\\Users\\lauri\\anaconda3\\lib\\site-packages\\sklearn\\cluster\\_kmeans.py:1382: UserWarning: KMeans is known to have a memory leak on Windows with MKL, when there are less chunks than available threads. You can avoid it by setting the environment variable OMP_NUM_THREADS=8.\n",
      "  warnings.warn(\n"
     ]
    },
    {
     "name": "stdout",
     "output_type": "stream",
     "text": [
      "spectral v 0.45752184238815663 spectral adjustred rand 0.22565618071460306\n",
      "\n",
      "\n",
      "done in 65.816595s\n",
      "n_samples: 2000, n_features: 1000\n",
      "\n",
      "kMeans ++ run number: 1\n",
      "Clustering sparse data with KMeans(max_iter=100, n_clusters=5, n_init=1, verbose=False)\n",
      "done in 65.866s\n",
      "K Means V-measure: 0.32071 Homogeneity: 0.31 Completeness: 0.33 Adjusted Rand-Index: 0.22\n",
      "ag v 0.34844891544417994  ag rand 0.026296255757636302 ag unique label length 244\n"
     ]
    },
    {
     "name": "stderr",
     "output_type": "stream",
     "text": [
      "C:\\Users\\lauri\\anaconda3\\lib\\site-packages\\sklearn\\cluster\\_kmeans.py:1382: UserWarning: KMeans is known to have a memory leak on Windows with MKL, when there are less chunks than available threads. You can avoid it by setting the environment variable OMP_NUM_THREADS=8.\n",
      "  warnings.warn(\n"
     ]
    },
    {
     "name": "stdout",
     "output_type": "stream",
     "text": [
      "spectral v 0.45752184238815663 spectral adjustred rand 0.22565618071460306\n",
      "\n",
      "\n",
      "done in 68.519984s\n",
      "n_samples: 2000, n_features: 1000\n",
      "\n",
      "kMeans ++ run number: 2\n",
      "Clustering sparse data with KMeans(max_iter=100, n_clusters=5, n_init=1, verbose=False)\n",
      "done in 68.579s\n",
      "K Means V-measure: 0.33857 Homogeneity: 0.33 Completeness: 0.35 Adjusted Rand-Index: 0.23\n",
      "ag v 0.34844891544417994  ag rand 0.026296255757636302 ag unique label length 244\n"
     ]
    },
    {
     "name": "stderr",
     "output_type": "stream",
     "text": [
      "C:\\Users\\lauri\\anaconda3\\lib\\site-packages\\sklearn\\cluster\\_kmeans.py:1382: UserWarning: KMeans is known to have a memory leak on Windows with MKL, when there are less chunks than available threads. You can avoid it by setting the environment variable OMP_NUM_THREADS=8.\n",
      "  warnings.warn(\n"
     ]
    },
    {
     "name": "stdout",
     "output_type": "stream",
     "text": [
      "spectral v 0.4575218423881565 spectral adjustred rand 0.22565618071460306\n",
      "\n",
      "\n",
      "done in 71.457569s\n",
      "n_samples: 2000, n_features: 1000\n",
      "\n",
      "kMeans ++ run number: 3\n",
      "Clustering sparse data with KMeans(max_iter=100, n_clusters=5, n_init=1, verbose=False)\n",
      "done in 71.505s\n",
      "K Means V-measure: 0.36895 Homogeneity: 0.36 Completeness: 0.38 Adjusted Rand-Index: 0.24\n",
      "ag v 0.34844891544417994  ag rand 0.026296255757636302 ag unique label length 244\n"
     ]
    },
    {
     "name": "stderr",
     "output_type": "stream",
     "text": [
      "C:\\Users\\lauri\\anaconda3\\lib\\site-packages\\sklearn\\cluster\\_kmeans.py:1382: UserWarning: KMeans is known to have a memory leak on Windows with MKL, when there are less chunks than available threads. You can avoid it by setting the environment variable OMP_NUM_THREADS=8.\n",
      "  warnings.warn(\n"
     ]
    },
    {
     "name": "stdout",
     "output_type": "stream",
     "text": [
      "spectral v 0.4575218423881565 spectral adjustred rand 0.22565618071460306\n",
      "\n",
      "\n",
      "done in 74.224088s\n",
      "n_samples: 2000, n_features: 1000\n",
      "\n",
      "kMeans ++ run number: 4\n",
      "Clustering sparse data with KMeans(max_iter=100, n_clusters=5, n_init=1, verbose=False)\n",
      "done in 74.275s\n",
      "K Means V-measure: 0.37726 Homogeneity: 0.37 Completeness: 0.39 Adjusted Rand-Index: 0.25\n",
      "ag v 0.34844891544417994  ag rand 0.026296255757636302 ag unique label length 244\n"
     ]
    },
    {
     "name": "stderr",
     "output_type": "stream",
     "text": [
      "C:\\Users\\lauri\\anaconda3\\lib\\site-packages\\sklearn\\cluster\\_kmeans.py:1382: UserWarning: KMeans is known to have a memory leak on Windows with MKL, when there are less chunks than available threads. You can avoid it by setting the environment variable OMP_NUM_THREADS=8.\n",
      "  warnings.warn(\n"
     ]
    },
    {
     "name": "stdout",
     "output_type": "stream",
     "text": [
      "spectral v 0.4575218423881565 spectral adjustred rand 0.22565618071460306\n",
      "\n",
      "\n",
      "done in 76.988747s\n",
      "n_samples: 2000, n_features: 1000\n",
      "\n",
      "kMeans ++ run number: 5\n",
      "Clustering sparse data with KMeans(max_iter=100, n_clusters=5, n_init=1, verbose=False)\n",
      "done in 77.035s\n",
      "K Means V-measure: 0.28848 Homogeneity: 0.28 Completeness: 0.30 Adjusted Rand-Index: 0.18\n",
      "ag v 0.34844891544417994  ag rand 0.026296255757636302 ag unique label length 244\n"
     ]
    },
    {
     "name": "stderr",
     "output_type": "stream",
     "text": [
      "C:\\Users\\lauri\\anaconda3\\lib\\site-packages\\sklearn\\cluster\\_kmeans.py:1382: UserWarning: KMeans is known to have a memory leak on Windows with MKL, when there are less chunks than available threads. You can avoid it by setting the environment variable OMP_NUM_THREADS=8.\n",
      "  warnings.warn(\n"
     ]
    },
    {
     "name": "stdout",
     "output_type": "stream",
     "text": [
      "spectral v 0.4575218423881565 spectral adjustred rand 0.22565618071460306\n",
      "\n",
      "\n",
      "done in 79.863462s\n",
      "n_samples: 2000, n_features: 1000\n",
      "\n",
      "kMeans ++ run number: 6\n",
      "Clustering sparse data with KMeans(max_iter=100, n_clusters=5, n_init=1, verbose=False)\n",
      "done in 79.895s\n",
      "K Means V-measure: 0.40811 Homogeneity: 0.40 Completeness: 0.42 Adjusted Rand-Index: 0.34\n",
      "ag v 0.34844891544417994  ag rand 0.026296255757636302 ag unique label length 244\n"
     ]
    },
    {
     "name": "stderr",
     "output_type": "stream",
     "text": [
      "C:\\Users\\lauri\\anaconda3\\lib\\site-packages\\sklearn\\cluster\\_kmeans.py:1382: UserWarning: KMeans is known to have a memory leak on Windows with MKL, when there are less chunks than available threads. You can avoid it by setting the environment variable OMP_NUM_THREADS=8.\n",
      "  warnings.warn(\n"
     ]
    },
    {
     "name": "stdout",
     "output_type": "stream",
     "text": [
      "spectral v 0.45752184238815663 spectral adjustred rand 0.22565618071460306\n",
      "\n",
      "\n",
      "done in 82.793085s\n",
      "n_samples: 2000, n_features: 1000\n",
      "\n",
      "kMeans ++ run number: 7\n",
      "Clustering sparse data with KMeans(max_iter=100, n_clusters=5, n_init=1, verbose=False)\n",
      "done in 82.834s\n",
      "K Means V-measure: 0.33431 Homogeneity: 0.32 Completeness: 0.35 Adjusted Rand-Index: 0.19\n",
      "ag v 0.34844891544417994  ag rand 0.026296255757636302 ag unique label length 244\n"
     ]
    },
    {
     "name": "stderr",
     "output_type": "stream",
     "text": [
      "C:\\Users\\lauri\\anaconda3\\lib\\site-packages\\sklearn\\cluster\\_kmeans.py:1382: UserWarning: KMeans is known to have a memory leak on Windows with MKL, when there are less chunks than available threads. You can avoid it by setting the environment variable OMP_NUM_THREADS=8.\n",
      "  warnings.warn(\n"
     ]
    },
    {
     "name": "stdout",
     "output_type": "stream",
     "text": [
      "spectral v 0.45752184238815646 spectral adjustred rand 0.22565618071460306\n",
      "\n",
      "\n",
      "done in 85.695859s\n",
      "n_samples: 2000, n_features: 1000\n",
      "\n",
      "kMeans ++ run number: 8\n",
      "Clustering sparse data with KMeans(max_iter=100, n_clusters=5, n_init=1, verbose=False)\n",
      "done in 85.733s\n",
      "K Means V-measure: 0.34102 Homogeneity: 0.34 Completeness: 0.35 Adjusted Rand-Index: 0.25\n",
      "ag v 0.34844891544417994  ag rand 0.026296255757636302 ag unique label length 244\n"
     ]
    },
    {
     "name": "stderr",
     "output_type": "stream",
     "text": [
      "C:\\Users\\lauri\\anaconda3\\lib\\site-packages\\sklearn\\cluster\\_kmeans.py:1382: UserWarning: KMeans is known to have a memory leak on Windows with MKL, when there are less chunks than available threads. You can avoid it by setting the environment variable OMP_NUM_THREADS=8.\n",
      "  warnings.warn(\n"
     ]
    },
    {
     "name": "stdout",
     "output_type": "stream",
     "text": [
      "spectral v 0.45752184238815663 spectral adjustred rand 0.22565618071460306\n",
      "\n",
      "\n",
      "done in 89.120314s\n",
      "n_samples: 2000, n_features: 1000\n",
      "\n",
      "kMeans ++ run number: 9\n",
      "Clustering sparse data with KMeans(max_iter=100, n_clusters=5, n_init=1, verbose=False)\n",
      "done in 89.156s\n",
      "K Means V-measure: 0.26909 Homogeneity: 0.26 Completeness: 0.28 Adjusted Rand-Index: 0.17\n",
      "ag v 0.34844891544417994  ag rand 0.026296255757636302 ag unique label length 244\n"
     ]
    },
    {
     "name": "stderr",
     "output_type": "stream",
     "text": [
      "C:\\Users\\lauri\\anaconda3\\lib\\site-packages\\sklearn\\cluster\\_kmeans.py:1382: UserWarning: KMeans is known to have a memory leak on Windows with MKL, when there are less chunks than available threads. You can avoid it by setting the environment variable OMP_NUM_THREADS=8.\n",
      "  warnings.warn(\n"
     ]
    },
    {
     "name": "stdout",
     "output_type": "stream",
     "text": [
      "spectral v 0.45752184238815663 spectral adjustred rand 0.22565618071460306\n",
      "\n",
      "\n",
      "done in 91.847753s\n",
      "n_samples: 2000, n_features: 1000\n",
      "\n",
      "kMeans ++ run number: 10\n",
      "Clustering sparse data with KMeans(max_iter=100, n_clusters=5, n_init=1, verbose=False)\n",
      "done in 91.879s\n",
      "K Means V-measure: 0.29551 Homogeneity: 0.29 Completeness: 0.30 Adjusted Rand-Index: 0.20\n",
      "ag v 0.34844891544417994  ag rand 0.026296255757636302 ag unique label length 244\n"
     ]
    },
    {
     "name": "stderr",
     "output_type": "stream",
     "text": [
      "C:\\Users\\lauri\\anaconda3\\lib\\site-packages\\sklearn\\cluster\\_kmeans.py:1382: UserWarning: KMeans is known to have a memory leak on Windows with MKL, when there are less chunks than available threads. You can avoid it by setting the environment variable OMP_NUM_THREADS=8.\n",
      "  warnings.warn(\n"
     ]
    },
    {
     "name": "stdout",
     "output_type": "stream",
     "text": [
      "spectral v 0.45752184238815646 spectral adjustred rand 0.22565618071460306\n",
      "\n",
      "\n",
      "500 documents\n",
      "5 categories\n",
      "\n",
      "Extracting features from the training dataset using a sparse vectorizer\n",
      "done in 94.238744s\n",
      "n_samples: 500, n_features: 1000\n",
      "\n",
      "kMeans ++ run number: 0\n",
      "Clustering sparse data with KMeans(max_iter=100, n_clusters=5, n_init=1, verbose=False)\n",
      "done in 94.274s\n",
      "K Means V-measure: 0.53623 Homogeneity: 0.52 Completeness: 0.55 Adjusted Rand-Index: 0.47\n",
      "ag v 0.4859187389615588  ag rand 0.14473806286863766 ag unique label length 48\n"
     ]
    },
    {
     "name": "stderr",
     "output_type": "stream",
     "text": [
      "C:\\Users\\lauri\\anaconda3\\lib\\site-packages\\sklearn\\cluster\\_kmeans.py:1382: UserWarning: KMeans is known to have a memory leak on Windows with MKL, when there are less chunks than available threads. You can avoid it by setting the environment variable OMP_NUM_THREADS=2.\n",
      "  warnings.warn(\n"
     ]
    },
    {
     "name": "stdout",
     "output_type": "stream",
     "text": [
      "spectral v 0.4348447230835253 spectral adjustred rand 0.26999553131405774\n",
      "\n",
      "\n",
      "done in 94.864144s\n",
      "n_samples: 500, n_features: 1000\n",
      "\n",
      "kMeans ++ run number: 1\n",
      "Clustering sparse data with KMeans(max_iter=100, n_clusters=5, n_init=1, verbose=False)\n",
      "done in 94.895s\n",
      "K Means V-measure: 0.51913 Homogeneity: 0.50 Completeness: 0.54 Adjusted Rand-Index: 0.47\n",
      "ag v 0.4859187389615588  ag rand 0.14473806286863766 ag unique label length 48\n"
     ]
    },
    {
     "name": "stderr",
     "output_type": "stream",
     "text": [
      "C:\\Users\\lauri\\anaconda3\\lib\\site-packages\\sklearn\\cluster\\_kmeans.py:1382: UserWarning: KMeans is known to have a memory leak on Windows with MKL, when there are less chunks than available threads. You can avoid it by setting the environment variable OMP_NUM_THREADS=2.\n",
      "  warnings.warn(\n"
     ]
    },
    {
     "name": "stdout",
     "output_type": "stream",
     "text": [
      "spectral v 0.4348447230835253 spectral adjustred rand 0.26999553131405774\n",
      "\n",
      "\n",
      "done in 95.520720s\n",
      "n_samples: 500, n_features: 1000\n",
      "\n",
      "kMeans ++ run number: 2\n",
      "Clustering sparse data with KMeans(max_iter=100, n_clusters=5, n_init=1, verbose=False)\n",
      "done in 95.552s\n",
      "K Means V-measure: 0.55410 Homogeneity: 0.54 Completeness: 0.57 Adjusted Rand-Index: 0.52\n",
      "ag v 0.4859187389615588  ag rand 0.14473806286863766 ag unique label length 48\n"
     ]
    },
    {
     "name": "stderr",
     "output_type": "stream",
     "text": [
      "C:\\Users\\lauri\\anaconda3\\lib\\site-packages\\sklearn\\cluster\\_kmeans.py:1382: UserWarning: KMeans is known to have a memory leak on Windows with MKL, when there are less chunks than available threads. You can avoid it by setting the environment variable OMP_NUM_THREADS=2.\n",
      "  warnings.warn(\n"
     ]
    },
    {
     "name": "stdout",
     "output_type": "stream",
     "text": [
      "spectral v 0.4348447230835253 spectral adjustred rand 0.26999553131405774\n",
      "\n",
      "\n",
      "done in 96.222429s\n",
      "n_samples: 500, n_features: 1000\n",
      "\n",
      "kMeans ++ run number: 3\n",
      "Clustering sparse data with KMeans(max_iter=100, n_clusters=5, n_init=1, verbose=False)\n",
      "done in 96.238s\n",
      "K Means V-measure: 0.42346 Homogeneity: 0.37 Completeness: 0.50 Adjusted Rand-Index: 0.27\n",
      "ag v 0.4859187389615588  ag rand 0.14473806286863766 ag unique label length 48\n"
     ]
    },
    {
     "name": "stderr",
     "output_type": "stream",
     "text": [
      "C:\\Users\\lauri\\anaconda3\\lib\\site-packages\\sklearn\\cluster\\_kmeans.py:1382: UserWarning: KMeans is known to have a memory leak on Windows with MKL, when there are less chunks than available threads. You can avoid it by setting the environment variable OMP_NUM_THREADS=2.\n",
      "  warnings.warn(\n"
     ]
    },
    {
     "name": "stdout",
     "output_type": "stream",
     "text": [
      "spectral v 0.4348447230835253 spectral adjustred rand 0.26999553131405774\n",
      "\n",
      "\n",
      "done in 96.886145s\n",
      "n_samples: 500, n_features: 1000\n",
      "\n",
      "kMeans ++ run number: 4\n",
      "Clustering sparse data with KMeans(max_iter=100, n_clusters=5, n_init=1, verbose=False)\n",
      "done in 96.911s\n",
      "K Means V-measure: 0.55885 Homogeneity: 0.54 Completeness: 0.58 Adjusted Rand-Index: 0.49\n",
      "ag v 0.4859187389615588  ag rand 0.14473806286863766 ag unique label length 48\n"
     ]
    },
    {
     "name": "stderr",
     "output_type": "stream",
     "text": [
      "C:\\Users\\lauri\\anaconda3\\lib\\site-packages\\sklearn\\cluster\\_kmeans.py:1382: UserWarning: KMeans is known to have a memory leak on Windows with MKL, when there are less chunks than available threads. You can avoid it by setting the environment variable OMP_NUM_THREADS=2.\n",
      "  warnings.warn(\n"
     ]
    },
    {
     "name": "stdout",
     "output_type": "stream",
     "text": [
      "spectral v 0.4348447230835253 spectral adjustred rand 0.26999553131405774\n",
      "\n",
      "\n",
      "done in 97.571661s\n",
      "n_samples: 500, n_features: 1000\n",
      "\n",
      "kMeans ++ run number: 5\n",
      "Clustering sparse data with KMeans(max_iter=100, n_clusters=5, n_init=1, verbose=False)\n",
      "done in 97.604s\n",
      "K Means V-measure: 0.54168 Homogeneity: 0.52 Completeness: 0.57 Adjusted Rand-Index: 0.45\n",
      "ag v 0.4859187389615588  ag rand 0.14473806286863766 ag unique label length 48\n"
     ]
    },
    {
     "name": "stderr",
     "output_type": "stream",
     "text": [
      "C:\\Users\\lauri\\anaconda3\\lib\\site-packages\\sklearn\\cluster\\_kmeans.py:1382: UserWarning: KMeans is known to have a memory leak on Windows with MKL, when there are less chunks than available threads. You can avoid it by setting the environment variable OMP_NUM_THREADS=2.\n",
      "  warnings.warn(\n"
     ]
    },
    {
     "name": "stdout",
     "output_type": "stream",
     "text": [
      "spectral v 0.4348447230835253 spectral adjustred rand 0.26999553131405774\n",
      "\n",
      "\n",
      "done in 98.255294s\n",
      "n_samples: 500, n_features: 1000\n",
      "\n",
      "kMeans ++ run number: 6\n",
      "Clustering sparse data with KMeans(max_iter=100, n_clusters=5, n_init=1, verbose=False)\n",
      "done in 98.279s\n",
      "K Means V-measure: 0.54772 Homogeneity: 0.53 Completeness: 0.57 Adjusted Rand-Index: 0.50\n",
      "ag v 0.4859187389615588  ag rand 0.14473806286863766 ag unique label length 48\n"
     ]
    },
    {
     "name": "stderr",
     "output_type": "stream",
     "text": [
      "C:\\Users\\lauri\\anaconda3\\lib\\site-packages\\sklearn\\cluster\\_kmeans.py:1382: UserWarning: KMeans is known to have a memory leak on Windows with MKL, when there are less chunks than available threads. You can avoid it by setting the environment variable OMP_NUM_THREADS=2.\n",
      "  warnings.warn(\n"
     ]
    },
    {
     "name": "stdout",
     "output_type": "stream",
     "text": [
      "spectral v 0.4348447230835253 spectral adjustred rand 0.26999553131405774\n",
      "\n",
      "\n",
      "done in 98.908092s\n",
      "n_samples: 500, n_features: 1000\n",
      "\n",
      "kMeans ++ run number: 7\n",
      "Clustering sparse data with KMeans(max_iter=100, n_clusters=5, n_init=1, verbose=False)\n",
      "done in 98.932s\n",
      "K Means V-measure: 0.60671 Homogeneity: 0.61 Completeness: 0.61 Adjusted Rand-Index: 0.60\n",
      "ag v 0.4859187389615588  ag rand 0.14473806286863766 ag unique label length 48\n"
     ]
    },
    {
     "name": "stderr",
     "output_type": "stream",
     "text": [
      "C:\\Users\\lauri\\anaconda3\\lib\\site-packages\\sklearn\\cluster\\_kmeans.py:1382: UserWarning: KMeans is known to have a memory leak on Windows with MKL, when there are less chunks than available threads. You can avoid it by setting the environment variable OMP_NUM_THREADS=2.\n",
      "  warnings.warn(\n"
     ]
    },
    {
     "name": "stdout",
     "output_type": "stream",
     "text": [
      "spectral v 0.4348447230835253 spectral adjustred rand 0.26999553131405774\n",
      "\n",
      "\n",
      "done in 99.580067s\n",
      "n_samples: 500, n_features: 1000\n",
      "\n",
      "kMeans ++ run number: 8\n",
      "Clustering sparse data with KMeans(max_iter=100, n_clusters=5, n_init=1, verbose=False)\n",
      "done in 99.612s\n",
      "K Means V-measure: 0.40785 Homogeneity: 0.38 Completeness: 0.44 Adjusted Rand-Index: 0.30\n",
      "ag v 0.4859187389615588  ag rand 0.14473806286863766 ag unique label length 48\n"
     ]
    },
    {
     "name": "stderr",
     "output_type": "stream",
     "text": [
      "C:\\Users\\lauri\\anaconda3\\lib\\site-packages\\sklearn\\cluster\\_kmeans.py:1382: UserWarning: KMeans is known to have a memory leak on Windows with MKL, when there are less chunks than available threads. You can avoid it by setting the environment variable OMP_NUM_THREADS=2.\n",
      "  warnings.warn(\n"
     ]
    },
    {
     "name": "stdout",
     "output_type": "stream",
     "text": [
      "spectral v 0.4348447230835253 spectral adjustred rand 0.26999553131405774\n",
      "\n",
      "\n",
      "done in 100.239454s\n",
      "n_samples: 500, n_features: 1000\n",
      "\n",
      "kMeans ++ run number: 9\n",
      "Clustering sparse data with KMeans(max_iter=100, n_clusters=5, n_init=1, verbose=False)\n",
      "done in 100.269s\n",
      "K Means V-measure: 0.75691 Homogeneity: 0.76 Completeness: 0.76 Adjusted Rand-Index: 0.78\n",
      "ag v 0.4859187389615588  ag rand 0.14473806286863766 ag unique label length 48\n"
     ]
    },
    {
     "name": "stderr",
     "output_type": "stream",
     "text": [
      "C:\\Users\\lauri\\anaconda3\\lib\\site-packages\\sklearn\\cluster\\_kmeans.py:1382: UserWarning: KMeans is known to have a memory leak on Windows with MKL, when there are less chunks than available threads. You can avoid it by setting the environment variable OMP_NUM_THREADS=2.\n",
      "  warnings.warn(\n"
     ]
    },
    {
     "name": "stdout",
     "output_type": "stream",
     "text": [
      "spectral v 0.4348447230835253 spectral adjustred rand 0.26999553131405774\n",
      "\n",
      "\n",
      "done in 100.884470s\n",
      "n_samples: 500, n_features: 1000\n",
      "\n",
      "kMeans ++ run number: 10\n",
      "Clustering sparse data with KMeans(max_iter=100, n_clusters=5, n_init=1, verbose=False)\n",
      "done in 100.910s\n",
      "K Means V-measure: 0.56980 Homogeneity: 0.55 Completeness: 0.60 Adjusted Rand-Index: 0.49\n",
      "ag v 0.4859187389615588  ag rand 0.14473806286863766 ag unique label length 48\n"
     ]
    },
    {
     "name": "stderr",
     "output_type": "stream",
     "text": [
      "C:\\Users\\lauri\\anaconda3\\lib\\site-packages\\sklearn\\cluster\\_kmeans.py:1382: UserWarning: KMeans is known to have a memory leak on Windows with MKL, when there are less chunks than available threads. You can avoid it by setting the environment variable OMP_NUM_THREADS=2.\n",
      "  warnings.warn(\n"
     ]
    },
    {
     "name": "stdout",
     "output_type": "stream",
     "text": [
      "spectral v 0.4348447230835253 spectral adjustred rand 0.26999553131405774\n",
      "\n",
      "\n",
      "2400 documents\n",
      "6 categories\n",
      "\n",
      "Extracting features from the training dataset using a sparse vectorizer\n",
      "done in 102.418449s\n",
      "n_samples: 2400, n_features: 1000\n",
      "\n",
      "kMeans ++ run number: 0\n",
      "Clustering sparse data with KMeans(max_iter=100, n_clusters=6, n_init=1, verbose=False)\n",
      "done in 102.498s\n",
      "K Means V-measure: 0.30243 Homogeneity: 0.30 Completeness: 0.31 Adjusted Rand-Index: 0.20\n",
      "ag v 0.3860260438191469  ag rand 0.027404202097791736 ag unique label length 293\n"
     ]
    },
    {
     "name": "stderr",
     "output_type": "stream",
     "text": [
      "C:\\Users\\lauri\\anaconda3\\lib\\site-packages\\sklearn\\cluster\\_kmeans.py:1382: UserWarning: KMeans is known to have a memory leak on Windows with MKL, when there are less chunks than available threads. You can avoid it by setting the environment variable OMP_NUM_THREADS=10.\n",
      "  warnings.warn(\n"
     ]
    },
    {
     "name": "stdout",
     "output_type": "stream",
     "text": [
      "spectral v 0.5174385922830651 spectral adjustred rand 0.27582715050278406\n",
      "\n",
      "\n",
      "done in 106.388479s\n",
      "n_samples: 2400, n_features: 1000\n",
      "\n",
      "kMeans ++ run number: 1\n",
      "Clustering sparse data with KMeans(max_iter=100, n_clusters=6, n_init=1, verbose=False)\n",
      "done in 106.436s\n",
      "K Means V-measure: 0.30426 Homogeneity: 0.30 Completeness: 0.31 Adjusted Rand-Index: 0.19\n",
      "ag v 0.3860260438191469  ag rand 0.027404202097791736 ag unique label length 293\n"
     ]
    },
    {
     "name": "stderr",
     "output_type": "stream",
     "text": [
      "C:\\Users\\lauri\\anaconda3\\lib\\site-packages\\sklearn\\cluster\\_kmeans.py:1382: UserWarning: KMeans is known to have a memory leak on Windows with MKL, when there are less chunks than available threads. You can avoid it by setting the environment variable OMP_NUM_THREADS=10.\n",
      "  warnings.warn(\n"
     ]
    },
    {
     "name": "stdout",
     "output_type": "stream",
     "text": [
      "spectral v 0.5174385922830652 spectral adjustred rand 0.27582715050278406\n",
      "\n",
      "\n",
      "done in 110.299747s\n",
      "n_samples: 2400, n_features: 1000\n",
      "\n",
      "kMeans ++ run number: 2\n",
      "Clustering sparse data with KMeans(max_iter=100, n_clusters=6, n_init=1, verbose=False)\n",
      "done in 110.349s\n",
      "K Means V-measure: 0.25179 Homogeneity: 0.25 Completeness: 0.25 Adjusted Rand-Index: 0.19\n",
      "ag v 0.3860260438191469  ag rand 0.027404202097791736 ag unique label length 293\n"
     ]
    },
    {
     "name": "stderr",
     "output_type": "stream",
     "text": [
      "C:\\Users\\lauri\\anaconda3\\lib\\site-packages\\sklearn\\cluster\\_kmeans.py:1382: UserWarning: KMeans is known to have a memory leak on Windows with MKL, when there are less chunks than available threads. You can avoid it by setting the environment variable OMP_NUM_THREADS=10.\n",
      "  warnings.warn(\n"
     ]
    },
    {
     "name": "stdout",
     "output_type": "stream",
     "text": [
      "spectral v 0.5174385922830651 spectral adjustred rand 0.27582715050278406\n",
      "\n",
      "\n",
      "done in 114.343656s\n",
      "n_samples: 2400, n_features: 1000\n",
      "\n",
      "kMeans ++ run number: 3\n",
      "Clustering sparse data with KMeans(max_iter=100, n_clusters=6, n_init=1, verbose=False)\n",
      "done in 114.405s\n",
      "K Means V-measure: 0.30306 Homogeneity: 0.30 Completeness: 0.31 Adjusted Rand-Index: 0.19\n",
      "ag v 0.3860260438191469  ag rand 0.027404202097791736 ag unique label length 293\n"
     ]
    },
    {
     "name": "stderr",
     "output_type": "stream",
     "text": [
      "C:\\Users\\lauri\\anaconda3\\lib\\site-packages\\sklearn\\cluster\\_kmeans.py:1382: UserWarning: KMeans is known to have a memory leak on Windows with MKL, when there are less chunks than available threads. You can avoid it by setting the environment variable OMP_NUM_THREADS=10.\n",
      "  warnings.warn(\n"
     ]
    },
    {
     "name": "stdout",
     "output_type": "stream",
     "text": [
      "spectral v 0.5174385922830652 spectral adjustred rand 0.27582715050278406\n",
      "\n",
      "\n",
      "done in 118.646669s\n",
      "n_samples: 2400, n_features: 1000\n",
      "\n",
      "kMeans ++ run number: 4\n",
      "Clustering sparse data with KMeans(max_iter=100, n_clusters=6, n_init=1, verbose=False)\n",
      "done in 118.695s\n",
      "K Means V-measure: 0.31058 Homogeneity: 0.30 Completeness: 0.32 Adjusted Rand-Index: 0.19\n",
      "ag v 0.3860260438191469  ag rand 0.027404202097791736 ag unique label length 293\n"
     ]
    },
    {
     "name": "stderr",
     "output_type": "stream",
     "text": [
      "C:\\Users\\lauri\\anaconda3\\lib\\site-packages\\sklearn\\cluster\\_kmeans.py:1382: UserWarning: KMeans is known to have a memory leak on Windows with MKL, when there are less chunks than available threads. You can avoid it by setting the environment variable OMP_NUM_THREADS=10.\n",
      "  warnings.warn(\n"
     ]
    },
    {
     "name": "stdout",
     "output_type": "stream",
     "text": [
      "spectral v 0.5174385922830651 spectral adjustred rand 0.27582715050278406\n",
      "\n",
      "\n",
      "done in 122.673289s\n",
      "n_samples: 2400, n_features: 1000\n",
      "\n",
      "kMeans ++ run number: 5\n",
      "Clustering sparse data with KMeans(max_iter=100, n_clusters=6, n_init=1, verbose=False)\n",
      "done in 122.724s\n",
      "K Means V-measure: 0.28216 Homogeneity: 0.27 Completeness: 0.30 Adjusted Rand-Index: 0.16\n",
      "ag v 0.3860260438191469  ag rand 0.027404202097791736 ag unique label length 293\n"
     ]
    },
    {
     "name": "stderr",
     "output_type": "stream",
     "text": [
      "C:\\Users\\lauri\\anaconda3\\lib\\site-packages\\sklearn\\cluster\\_kmeans.py:1382: UserWarning: KMeans is known to have a memory leak on Windows with MKL, when there are less chunks than available threads. You can avoid it by setting the environment variable OMP_NUM_THREADS=10.\n",
      "  warnings.warn(\n"
     ]
    },
    {
     "name": "stdout",
     "output_type": "stream",
     "text": [
      "spectral v 0.5174385922830651 spectral adjustred rand 0.27582715050278406\n",
      "\n",
      "\n",
      "done in 126.792473s\n",
      "n_samples: 2400, n_features: 1000\n",
      "\n",
      "kMeans ++ run number: 6\n",
      "Clustering sparse data with KMeans(max_iter=100, n_clusters=6, n_init=1, verbose=False)\n",
      "done in 126.854s\n",
      "K Means V-measure: 0.30698 Homogeneity: 0.30 Completeness: 0.31 Adjusted Rand-Index: 0.20\n",
      "ag v 0.3860260438191469  ag rand 0.027404202097791736 ag unique label length 293\n"
     ]
    },
    {
     "name": "stderr",
     "output_type": "stream",
     "text": [
      "C:\\Users\\lauri\\anaconda3\\lib\\site-packages\\sklearn\\cluster\\_kmeans.py:1382: UserWarning: KMeans is known to have a memory leak on Windows with MKL, when there are less chunks than available threads. You can avoid it by setting the environment variable OMP_NUM_THREADS=10.\n",
      "  warnings.warn(\n"
     ]
    },
    {
     "name": "stdout",
     "output_type": "stream",
     "text": [
      "spectral v 0.5174385922830651 spectral adjustred rand 0.27582715050278406\n",
      "\n",
      "\n",
      "done in 130.914458s\n",
      "n_samples: 2400, n_features: 1000\n",
      "\n",
      "kMeans ++ run number: 7\n",
      "Clustering sparse data with KMeans(max_iter=100, n_clusters=6, n_init=1, verbose=False)\n",
      "done in 130.973s\n",
      "K Means V-measure: 0.40062 Homogeneity: 0.39 Completeness: 0.41 Adjusted Rand-Index: 0.27\n",
      "ag v 0.3860260438191469  ag rand 0.027404202097791736 ag unique label length 293\n"
     ]
    },
    {
     "name": "stderr",
     "output_type": "stream",
     "text": [
      "C:\\Users\\lauri\\anaconda3\\lib\\site-packages\\sklearn\\cluster\\_kmeans.py:1382: UserWarning: KMeans is known to have a memory leak on Windows with MKL, when there are less chunks than available threads. You can avoid it by setting the environment variable OMP_NUM_THREADS=10.\n",
      "  warnings.warn(\n"
     ]
    },
    {
     "name": "stdout",
     "output_type": "stream",
     "text": [
      "spectral v 0.5174385922830652 spectral adjustred rand 0.27582715050278406\n",
      "\n",
      "\n",
      "done in 134.742926s\n",
      "n_samples: 2400, n_features: 1000\n",
      "\n",
      "kMeans ++ run number: 8\n",
      "Clustering sparse data with KMeans(max_iter=100, n_clusters=6, n_init=1, verbose=False)\n",
      "done in 134.800s\n",
      "K Means V-measure: 0.28576 Homogeneity: 0.28 Completeness: 0.29 Adjusted Rand-Index: 0.20\n",
      "ag v 0.3860260438191469  ag rand 0.027404202097791736 ag unique label length 293\n"
     ]
    },
    {
     "name": "stderr",
     "output_type": "stream",
     "text": [
      "C:\\Users\\lauri\\anaconda3\\lib\\site-packages\\sklearn\\cluster\\_kmeans.py:1382: UserWarning: KMeans is known to have a memory leak on Windows with MKL, when there are less chunks than available threads. You can avoid it by setting the environment variable OMP_NUM_THREADS=10.\n",
      "  warnings.warn(\n"
     ]
    },
    {
     "name": "stdout",
     "output_type": "stream",
     "text": [
      "spectral v 0.5174385922830651 spectral adjustred rand 0.27582715050278406\n",
      "\n",
      "\n",
      "done in 138.550708s\n",
      "n_samples: 2400, n_features: 1000\n",
      "\n",
      "kMeans ++ run number: 9\n",
      "Clustering sparse data with KMeans(max_iter=100, n_clusters=6, n_init=1, verbose=False)\n",
      "done in 138.598s\n",
      "K Means V-measure: 0.25270 Homogeneity: 0.25 Completeness: 0.26 Adjusted Rand-Index: 0.14\n",
      "ag v 0.3860260438191469  ag rand 0.027404202097791736 ag unique label length 293\n"
     ]
    },
    {
     "name": "stderr",
     "output_type": "stream",
     "text": [
      "C:\\Users\\lauri\\anaconda3\\lib\\site-packages\\sklearn\\cluster\\_kmeans.py:1382: UserWarning: KMeans is known to have a memory leak on Windows with MKL, when there are less chunks than available threads. You can avoid it by setting the environment variable OMP_NUM_THREADS=10.\n",
      "  warnings.warn(\n"
     ]
    },
    {
     "name": "stdout",
     "output_type": "stream",
     "text": [
      "spectral v 0.5174385922830652 spectral adjustred rand 0.27582715050278406\n",
      "\n",
      "\n",
      "done in 142.321632s\n",
      "n_samples: 2400, n_features: 1000\n",
      "\n",
      "kMeans ++ run number: 10\n",
      "Clustering sparse data with KMeans(max_iter=100, n_clusters=6, n_init=1, verbose=False)\n",
      "done in 142.363s\n",
      "K Means V-measure: 0.33763 Homogeneity: 0.33 Completeness: 0.35 Adjusted Rand-Index: 0.22\n",
      "ag v 0.3860260438191469  ag rand 0.027404202097791736 ag unique label length 293\n"
     ]
    },
    {
     "name": "stderr",
     "output_type": "stream",
     "text": [
      "C:\\Users\\lauri\\anaconda3\\lib\\site-packages\\sklearn\\cluster\\_kmeans.py:1382: UserWarning: KMeans is known to have a memory leak on Windows with MKL, when there are less chunks than available threads. You can avoid it by setting the environment variable OMP_NUM_THREADS=10.\n",
      "  warnings.warn(\n"
     ]
    },
    {
     "name": "stdout",
     "output_type": "stream",
     "text": [
      "spectral v 0.5174385922830651 spectral adjustred rand 0.27582715050278406\n",
      "\n",
      "\n",
      "1197 documents\n",
      "6 categories\n",
      "\n",
      "Extracting features from the training dataset using a sparse vectorizer\n",
      "done in 145.676842s\n",
      "n_samples: 1197, n_features: 1000\n",
      "\n",
      "kMeans ++ run number: 0\n",
      "Clustering sparse data with KMeans(max_iter=100, n_clusters=6, n_init=1, verbose=False)\n",
      "done in 145.722s\n",
      "K Means V-measure: 0.37705 Homogeneity: 0.36 Completeness: 0.39 Adjusted Rand-Index: 0.28\n",
      "ag v 0.4415961712982154  ag rand 0.0884399259490647 ag unique label length 103\n"
     ]
    },
    {
     "name": "stderr",
     "output_type": "stream",
     "text": [
      "C:\\Users\\lauri\\anaconda3\\lib\\site-packages\\sklearn\\cluster\\_kmeans.py:1382: UserWarning: KMeans is known to have a memory leak on Windows with MKL, when there are less chunks than available threads. You can avoid it by setting the environment variable OMP_NUM_THREADS=5.\n",
      "  warnings.warn(\n"
     ]
    },
    {
     "name": "stdout",
     "output_type": "stream",
     "text": [
      "spectral v 0.2711336033669205 spectral adjustred rand 0.0636022107058925\n",
      "\n",
      "\n",
      "done in 146.801976s\n",
      "n_samples: 1197, n_features: 1000\n",
      "\n",
      "kMeans ++ run number: 1\n",
      "Clustering sparse data with KMeans(max_iter=100, n_clusters=6, n_init=1, verbose=False)\n",
      "done in 146.837s\n",
      "K Means V-measure: 0.38373 Homogeneity: 0.37 Completeness: 0.40 Adjusted Rand-Index: 0.27\n",
      "ag v 0.4415961712982154  ag rand 0.0884399259490647 ag unique label length 103\n"
     ]
    },
    {
     "name": "stderr",
     "output_type": "stream",
     "text": [
      "C:\\Users\\lauri\\anaconda3\\lib\\site-packages\\sklearn\\cluster\\_kmeans.py:1382: UserWarning: KMeans is known to have a memory leak on Windows with MKL, when there are less chunks than available threads. You can avoid it by setting the environment variable OMP_NUM_THREADS=5.\n",
      "  warnings.warn(\n"
     ]
    },
    {
     "name": "stdout",
     "output_type": "stream",
     "text": [
      "spectral v 0.27113360336692055 spectral adjustred rand 0.0636022107058925\n",
      "\n",
      "\n",
      "done in 148.337084s\n",
      "n_samples: 1197, n_features: 1000\n",
      "\n",
      "kMeans ++ run number: 2\n",
      "Clustering sparse data with KMeans(max_iter=100, n_clusters=6, n_init=1, verbose=False)\n",
      "done in 148.378s\n",
      "K Means V-measure: 0.37812 Homogeneity: 0.34 Completeness: 0.42 Adjusted Rand-Index: 0.21\n",
      "ag v 0.4415961712982154  ag rand 0.0884399259490647 ag unique label length 103\n"
     ]
    },
    {
     "name": "stderr",
     "output_type": "stream",
     "text": [
      "C:\\Users\\lauri\\anaconda3\\lib\\site-packages\\sklearn\\cluster\\_kmeans.py:1382: UserWarning: KMeans is known to have a memory leak on Windows with MKL, when there are less chunks than available threads. You can avoid it by setting the environment variable OMP_NUM_THREADS=5.\n",
      "  warnings.warn(\n"
     ]
    },
    {
     "name": "stdout",
     "output_type": "stream",
     "text": [
      "spectral v 0.27113360336692066 spectral adjustred rand 0.0636022107058925\n",
      "\n",
      "\n",
      "done in 149.529493s\n",
      "n_samples: 1197, n_features: 1000\n",
      "\n",
      "kMeans ++ run number: 3\n",
      "Clustering sparse data with KMeans(max_iter=100, n_clusters=6, n_init=1, verbose=False)\n",
      "done in 149.561s\n",
      "K Means V-measure: 0.38866 Homogeneity: 0.35 Completeness: 0.43 Adjusted Rand-Index: 0.20\n",
      "ag v 0.4415961712982154  ag rand 0.0884399259490647 ag unique label length 103\n"
     ]
    },
    {
     "name": "stderr",
     "output_type": "stream",
     "text": [
      "C:\\Users\\lauri\\anaconda3\\lib\\site-packages\\sklearn\\cluster\\_kmeans.py:1382: UserWarning: KMeans is known to have a memory leak on Windows with MKL, when there are less chunks than available threads. You can avoid it by setting the environment variable OMP_NUM_THREADS=5.\n",
      "  warnings.warn(\n"
     ]
    },
    {
     "name": "stdout",
     "output_type": "stream",
     "text": [
      "spectral v 0.2716693952111827 spectral adjustred rand 0.0630821715677585\n",
      "\n",
      "\n",
      "done in 150.769754s\n",
      "n_samples: 1197, n_features: 1000\n",
      "\n",
      "kMeans ++ run number: 4\n",
      "Clustering sparse data with KMeans(max_iter=100, n_clusters=6, n_init=1, verbose=False)\n",
      "done in 150.801s\n",
      "K Means V-measure: 0.34966 Homogeneity: 0.31 Completeness: 0.41 Adjusted Rand-Index: 0.17\n",
      "ag v 0.4415961712982154  ag rand 0.0884399259490647 ag unique label length 103\n"
     ]
    },
    {
     "name": "stderr",
     "output_type": "stream",
     "text": [
      "C:\\Users\\lauri\\anaconda3\\lib\\site-packages\\sklearn\\cluster\\_kmeans.py:1382: UserWarning: KMeans is known to have a memory leak on Windows with MKL, when there are less chunks than available threads. You can avoid it by setting the environment variable OMP_NUM_THREADS=5.\n",
      "  warnings.warn(\n"
     ]
    },
    {
     "name": "stdout",
     "output_type": "stream",
     "text": [
      "spectral v 0.2711336033669205 spectral adjustred rand 0.0636022107058925\n",
      "\n",
      "\n",
      "done in 151.990240s\n",
      "n_samples: 1197, n_features: 1000\n",
      "\n",
      "kMeans ++ run number: 5\n",
      "Clustering sparse data with KMeans(max_iter=100, n_clusters=6, n_init=1, verbose=False)\n",
      "done in 152.025s\n",
      "K Means V-measure: 0.35388 Homogeneity: 0.34 Completeness: 0.37 Adjusted Rand-Index: 0.21\n",
      "ag v 0.4415961712982154  ag rand 0.0884399259490647 ag unique label length 103\n"
     ]
    },
    {
     "name": "stderr",
     "output_type": "stream",
     "text": [
      "C:\\Users\\lauri\\anaconda3\\lib\\site-packages\\sklearn\\cluster\\_kmeans.py:1382: UserWarning: KMeans is known to have a memory leak on Windows with MKL, when there are less chunks than available threads. You can avoid it by setting the environment variable OMP_NUM_THREADS=5.\n",
      "  warnings.warn(\n"
     ]
    },
    {
     "name": "stdout",
     "output_type": "stream",
     "text": [
      "spectral v 0.2711336033669205 spectral adjustred rand 0.0636022107058925\n",
      "\n",
      "\n",
      "done in 153.362857s\n",
      "n_samples: 1197, n_features: 1000\n",
      "\n",
      "kMeans ++ run number: 6\n",
      "Clustering sparse data with KMeans(max_iter=100, n_clusters=6, n_init=1, verbose=False)\n",
      "done in 153.395s\n",
      "K Means V-measure: 0.31457 Homogeneity: 0.29 Completeness: 0.34 Adjusted Rand-Index: 0.17\n",
      "ag v 0.4415961712982154  ag rand 0.0884399259490647 ag unique label length 103\n"
     ]
    },
    {
     "name": "stderr",
     "output_type": "stream",
     "text": [
      "C:\\Users\\lauri\\anaconda3\\lib\\site-packages\\sklearn\\cluster\\_kmeans.py:1382: UserWarning: KMeans is known to have a memory leak on Windows with MKL, when there are less chunks than available threads. You can avoid it by setting the environment variable OMP_NUM_THREADS=5.\n",
      "  warnings.warn(\n"
     ]
    },
    {
     "name": "stdout",
     "output_type": "stream",
     "text": [
      "spectral v 0.2711336033669205 spectral adjustred rand 0.0636022107058925\n",
      "\n",
      "\n",
      "done in 154.524802s\n",
      "n_samples: 1197, n_features: 1000\n",
      "\n",
      "kMeans ++ run number: 7\n",
      "Clustering sparse data with KMeans(max_iter=100, n_clusters=6, n_init=1, verbose=False)\n",
      "done in 154.557s\n",
      "K Means V-measure: 0.36163 Homogeneity: 0.34 Completeness: 0.38 Adjusted Rand-Index: 0.21\n",
      "ag v 0.4415961712982154  ag rand 0.0884399259490647 ag unique label length 103\n"
     ]
    },
    {
     "name": "stderr",
     "output_type": "stream",
     "text": [
      "C:\\Users\\lauri\\anaconda3\\lib\\site-packages\\sklearn\\cluster\\_kmeans.py:1382: UserWarning: KMeans is known to have a memory leak on Windows with MKL, when there are less chunks than available threads. You can avoid it by setting the environment variable OMP_NUM_THREADS=5.\n",
      "  warnings.warn(\n"
     ]
    },
    {
     "name": "stdout",
     "output_type": "stream",
     "text": [
      "spectral v 0.2711336033669205 spectral adjustred rand 0.0636022107058925\n",
      "\n",
      "\n",
      "done in 155.665787s\n",
      "n_samples: 1197, n_features: 1000\n",
      "\n",
      "kMeans ++ run number: 8\n",
      "Clustering sparse data with KMeans(max_iter=100, n_clusters=6, n_init=1, verbose=False)\n",
      "done in 155.697s\n",
      "K Means V-measure: 0.40652 Homogeneity: 0.36 Completeness: 0.47 Adjusted Rand-Index: 0.20\n",
      "ag v 0.4415961712982154  ag rand 0.0884399259490647 ag unique label length 103\n"
     ]
    },
    {
     "name": "stderr",
     "output_type": "stream",
     "text": [
      "C:\\Users\\lauri\\anaconda3\\lib\\site-packages\\sklearn\\cluster\\_kmeans.py:1382: UserWarning: KMeans is known to have a memory leak on Windows with MKL, when there are less chunks than available threads. You can avoid it by setting the environment variable OMP_NUM_THREADS=5.\n",
      "  warnings.warn(\n"
     ]
    },
    {
     "name": "stdout",
     "output_type": "stream",
     "text": [
      "spectral v 0.2711336033669205 spectral adjustred rand 0.0636022107058925\n",
      "\n",
      "\n",
      "done in 156.854626s\n",
      "n_samples: 1197, n_features: 1000\n",
      "\n",
      "kMeans ++ run number: 9\n",
      "Clustering sparse data with KMeans(max_iter=100, n_clusters=6, n_init=1, verbose=False)\n",
      "done in 156.896s\n",
      "K Means V-measure: 0.43177 Homogeneity: 0.40 Completeness: 0.46 Adjusted Rand-Index: 0.33\n",
      "ag v 0.4415961712982154  ag rand 0.0884399259490647 ag unique label length 103\n"
     ]
    },
    {
     "name": "stderr",
     "output_type": "stream",
     "text": [
      "C:\\Users\\lauri\\anaconda3\\lib\\site-packages\\sklearn\\cluster\\_kmeans.py:1382: UserWarning: KMeans is known to have a memory leak on Windows with MKL, when there are less chunks than available threads. You can avoid it by setting the environment variable OMP_NUM_THREADS=5.\n",
      "  warnings.warn(\n"
     ]
    },
    {
     "name": "stdout",
     "output_type": "stream",
     "text": [
      "spectral v 0.27113360336692066 spectral adjustred rand 0.0636022107058925\n",
      "\n",
      "\n",
      "done in 158.120440s\n",
      "n_samples: 1197, n_features: 1000\n",
      "\n",
      "kMeans ++ run number: 10\n",
      "Clustering sparse data with KMeans(max_iter=100, n_clusters=6, n_init=1, verbose=False)\n",
      "done in 158.152s\n",
      "K Means V-measure: 0.32548 Homogeneity: 0.30 Completeness: 0.36 Adjusted Rand-Index: 0.15\n",
      "ag v 0.4415961712982154  ag rand 0.0884399259490647 ag unique label length 103\n"
     ]
    },
    {
     "name": "stderr",
     "output_type": "stream",
     "text": [
      "C:\\Users\\lauri\\anaconda3\\lib\\site-packages\\sklearn\\cluster\\_kmeans.py:1382: UserWarning: KMeans is known to have a memory leak on Windows with MKL, when there are less chunks than available threads. You can avoid it by setting the environment variable OMP_NUM_THREADS=5.\n",
      "  warnings.warn(\n"
     ]
    },
    {
     "name": "stdout",
     "output_type": "stream",
     "text": [
      "spectral v 0.2711336033669205 spectral adjustred rand 0.0636022107058925\n",
      "\n",
      "\n",
      "total time 159.118971s\n"
     ]
    }
   ],
   "source": [
    "t0 = time()\n",
    "collection_list = [\"crisis3\", \"NG3\", \"crisis4\", \"R4\", \"NG5\", \"R5\", \"NG6\", \"R6\"]\n",
    "#collection_list = [\"NG3\"]\n",
    "\n",
    "for collectionName in collection_list:\n",
    "\n",
    "    container_path = Path(data_folder + collectionName)\n",
    "\n",
    "    dataset = sklearn.datasets.load_files(container_path,  description=None, categories=None, load_content=True,\n",
    "                                          shuffle=True, encoding='utf-8', decode_error='ignore', random_state=0, allowed_extensions=None)\n",
    "\n",
    "    print(\"%d documents\" % len(dataset.data))\n",
    "    print(\"%d categories\" % len(dataset.target_names))\n",
    "    print()\n",
    "    \n",
    "     # Feature Extraction\n",
    "    # ------------------\n",
    "\n",
    "    labels = dataset.target\n",
    "    true_k = np.unique(labels).shape[0]\n",
    "\n",
    "    print(\"Extracting features from the training dataset using a sparse vectorizer\")\n",
    " \n",
    "\n",
    "    useHashing = False\n",
    "    useIDF = False\n",
    "    nFeature = 1000\n",
    "\n",
    "    if useHashing:\n",
    "        if useIDF:\n",
    "            # Perform an IDF normalization on the output of HashingVectorizer\n",
    "            hasher = HashingVectorizer(\n",
    "                n_features=nFeature,\n",
    "                stop_words=\"english\",\n",
    "                alternate_sign=False,\n",
    "                norm=None,\n",
    "            )\n",
    "            vectorizer = make_pipeline(hasher, TfidfTransformer())\n",
    "        else:\n",
    "            vectorizer = HashingVectorizer(\n",
    "                n_features=nFeature,\n",
    "                stop_words=\"english\",\n",
    "                alternate_sign=False,\n",
    "                norm=\"l2\",\n",
    "            )\n",
    "    else:\n",
    "        print(\"tfidf vectorizer\")\n",
    "        vectorizer = TfidfVectorizer(\n",
    "            max_df=0.5,\n",
    "            max_features= nFeature,\n",
    "            min_df=2,\n",
    "            stop_words=\"english\",\n",
    "            use_idf= True \n",
    "        )\n",
    "\n",
    "\n",
    "    # K - means clustering runs\n",
    "    for i in range(11):\n",
    "        X = vectorizer.fit_transform(dataset.data)\n",
    "        tvm = vectorizer.fit_transform(dataset.data).toarray()\n",
    "\n",
    "        print(\"done in %fs\" % (time() - t0))\n",
    "        print(\"n_samples: %d, n_features: %d\" % X.shape)\n",
    "        numDocs = X.shape[0]\n",
    "\n",
    "        print()\n",
    "\n",
    "        km = KMeans(\n",
    "            n_clusters=true_k,\n",
    "            init=\"k-means++\",\n",
    "            max_iter=100,\n",
    "            n_init=1,\n",
    "            verbose= False\n",
    "        )\n",
    "\n",
    "        print(\"kMeans ++ run number: \" + str(i))\n",
    "        print(\"Clustering sparse data with %s\" % km)\n",
    "        #t0 = time()\n",
    "        km.fit(X)\n",
    "        print(\"done in %0.3fs\" % (time() - t0))\n",
    "\n",
    "        # %%\n",
    "        # Performance metrics\n",
    "        # -------------------\n",
    "\n",
    "        km_v = metrics.v_measure_score(labels, km.labels_)\n",
    "        km_h = metrics.homogeneity_score(labels, km.labels_)\n",
    "        km_c = metrics.completeness_score(labels, km.labels_)\n",
    "        km_adjustedRand = metrics.adjusted_rand_score(labels, km.labels_)        \n",
    "        \n",
    "        print(f\"K Means V-measure: {km_v:.5f} Homogeneity: {km_h:.2f} Completeness: {km_c:.2f} Adjusted Rand-Index: {km_adjustedRand:.2f}\")\n",
    "        \n",
    "        ag =  AgglomerativeClustering(n_clusters = None, distance_threshold= 1.70). fit(tvm) \n",
    "        \n",
    "        ag_v = metrics.v_measure_score(labels, ag.labels_)\n",
    "        ag_h = metrics.homogeneity_score(labels, ag.labels_)\n",
    "        ag_c = metrics.completeness_score(labels, ag.labels_)\n",
    "        ag_adjustedRand = metrics.adjusted_rand_score(labels, ag.labels_)\n",
    "        \n",
    "        labelLength = ag.labels_\n",
    "        uniqueLabel=len(np.unique(labelLength))\n",
    "\n",
    "        print(f\"ag v {ag_v}  ag rand {ag_adjustedRand} ag unique label length {uniqueLabel}\")\n",
    "        \n",
    "        sc= SpectralClustering(n_clusters = true_k, affinity ='nearest_neighbors').fit(tvm)\n",
    "\n",
    "        sc_v = metrics.v_measure_score(labels, sc.labels_)\n",
    "        sc_h = metrics.homogeneity_score(labels, sc.labels_)\n",
    "        sc_c = metrics.completeness_score(labels, sc.labels_)\n",
    "        sc_adjustedRand = metrics.adjusted_rand_score(labels, sc.labels_)\n",
    "\n",
    "        print(f\"spectral v {sc_v} spectral adjustred rand {sc_adjustedRand}\")\n",
    "\n",
    "\n",
    "       # filePath = \"resultsKpython25.csv\"\n",
    "        #resultsFile = open(filePath, \"a\")\n",
    "        \n",
    "        filePath = \"resultsKpython38.csv\"\n",
    "        resultsFile = open(filePath, \"a\")\n",
    "\n",
    "        if os.path.getsize(filePath) == 0:\n",
    "            resultsFile.write(\"index, km_v, km_h, km_c, km_adjustRand, ag_v, ag_adjustedRand, sc_v, sc_adjustedRand, nFeature, numDocs, useHashing, date \\n\")\n",
    "\n",
    "        resultsFile.write(f\"{collectionName}, {km_v}, {km_h}, {km_c}, {km_adjustedRand}, {ag_v}, {ag_adjustedRand}, {sc_v}, {sc_adjustedRand}, {nFeature}, {numDocs}, {useHashing}, {datetime.now()}  \\n\")    \n",
    "\n",
    "        print()\n",
    "        resultsFile.close()\n",
    "        \n",
    "        \n",
    "\n",
    "    #    if os.path.getsize(filePath) == 0:\n",
    "     #       resultsFile.write(\"index, v, h, c, adjustRand, nFeature, numDocs, useHashing, date \\n\")\n",
    "        \n",
    "      #  resultsFile.write(f\"{collectionName}, {v}, {h}, {c}, {adjustedRand}, {nFeature}, {numDocs}, {useHashing}, {datetime.now()}  \\n\")    \n",
    "\n",
    "        print()\n",
    "        resultsFile.close()\n",
    " \n",
    "print(\"total time %fs\" % (time() - t0))\n",
    "    "
   ]
  },
  {
   "cell_type": "markdown",
   "id": "c8a52594",
   "metadata": {},
   "source": []
  },
  {
   "cell_type": "code",
   "execution_count": null,
   "id": "b286e269",
   "metadata": {},
   "outputs": [],
   "source": []
  }
 ],
 "metadata": {
  "kernelspec": {
   "display_name": "Python 3 (ipykernel)",
   "language": "python",
   "name": "python3"
  },
  "language_info": {
   "codemirror_mode": {
    "name": "ipython",
    "version": 3
   },
   "file_extension": ".py",
   "mimetype": "text/x-python",
   "name": "python",
   "nbconvert_exporter": "python",
   "pygments_lexer": "ipython3",
   "version": "3.10.9"
  }
 },
 "nbformat": 4,
 "nbformat_minor": 5
}
